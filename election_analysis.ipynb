{
  "nbformat": 4,
  "nbformat_minor": 0,
  "metadata": {
    "colab": {
      "name": "election_analysis.ipynb",
      "version": "0.3.2",
      "provenance": [],
      "collapsed_sections": [],
      "include_colab_link": true
    },
    "kernelspec": {
      "name": "python3",
      "display_name": "Python 3"
    }
  },
  "cells": [
    {
      "cell_type": "markdown",
      "metadata": {
        "id": "view-in-github",
        "colab_type": "text"
      },
      "source": [
        "<a href=\"https://colab.research.google.com/github/ayan59dutta/election_parameters/blob/master/election_analysis.ipynb\" target=\"_parent\"><img src=\"https://colab.research.google.com/assets/colab-badge.svg\" alt=\"Open In Colab\"/></a>"
      ]
    },
    {
      "cell_type": "markdown",
      "metadata": {
        "id": "eP3d-EP628aV",
        "colab_type": "text"
      },
      "source": [
        "# Load data from Github repo"
      ]
    },
    {
      "cell_type": "code",
      "metadata": {
        "id": "P8kxzxWt1hN0",
        "colab_type": "code",
        "colab": {}
      },
      "source": [
        "!git clone https://github.com/ayan59dutta/election_parameters.git"
      ],
      "execution_count": 0,
      "outputs": []
    },
    {
      "cell_type": "markdown",
      "metadata": {
        "id": "mE_xv_ic3G7P",
        "colab_type": "text"
      },
      "source": [
        "# Load data from file into dataframes"
      ]
    },
    {
      "cell_type": "code",
      "metadata": {
        "id": "XfR8Kq7T4Iru",
        "colab_type": "code",
        "colab": {}
      },
      "source": [
        "import pandas as pd\n",
        "import numpy as np"
      ],
      "execution_count": 0,
      "outputs": []
    },
    {
      "cell_type": "code",
      "metadata": {
        "id": "0mQ9oZxP_TMf",
        "colab_type": "code",
        "colab": {}
      },
      "source": [
        "colmn_list = ['Candidate', 'Constituency', 'Criminal Case', 'Education', 'Total Assets', 'Liabilities']\n",
        "\n",
        "def convert(x):\n",
        "    return int(x.split()[1].replace(',', '').replace('~', ''))\n",
        "\n",
        "df1_cand_details = pd.read_excel('election_parameters/data/MyNeta_UP_Assembly_ELections_2017.xlsx',\n",
        "                          usecols=colmn_list,\n",
        "                          converters={'Candidate': lambda x:x.upper(),\n",
        "                                     'Total Assets': convert,\n",
        "                                     'Liabilities': convert})\n",
        "\n",
        "df1_cand_details['Net Assets'] = df1_cand_details['Total Assets'] - df1_cand_details['Liabilities']\n",
        "df1_cand_details = df1_cand_details.drop(columns=['Total Assets', 'Liabilities'])\n",
        "df1_cand_details.rename(columns={'Candidate': 'CAND_NAME', \n",
        "                                 'Constituency': 'AC_NAME', \n",
        "                                 'Criminal Case': 'C_CASE',\n",
        "                                 'Education': 'EDU', \n",
        "                                 'Net Assets': 'NET_ASSETS'}, \n",
        "                        inplace=True)\n",
        "df1_cand_details"
      ],
      "execution_count": 0,
      "outputs": []
    },
    {
      "cell_type": "code",
      "metadata": {
        "id": "3yqhW5y8Qxq6",
        "colab_type": "code",
        "colab": {}
      },
      "source": [
        "colmn_list = ['ST_CODE', 'AC_NAME', 'AC_TYPE', 'CAND_NAME', 'CAND_SEX', \n",
        "              'CAND_CATEGORY', 'CAND_AGE', 'TOTVOTPOLL', 'POSITION']\n",
        "\n",
        "df_ae12 = pd.read_excel('election_parameters/data/AE2012_8913.xls',\n",
        "                        usecols=colmn_list,\n",
        "                        header=1,\n",
        "                        converters={'AC_NAME': lambda x: x.upper()})\n",
        "\n",
        "df_ae12 = df_ae12[df_ae12.ST_CODE == 'S24']\n",
        "\n",
        "df_ae12 = df_ae12.drop('ST_CODE', axis=1).reset_index().drop('index', axis=1)\n",
        "\n",
        "df_ae12"
      ],
      "execution_count": 0,
      "outputs": []
    },
    {
      "cell_type": "code",
      "metadata": {
        "id": "Z7eMMwp5W7_g",
        "colab_type": "code",
        "colab": {}
      },
      "source": [
        "la_2017 = pd.read_excel('election_parameters/data/LA_2017.xls', \n",
        "                        usecols = [1, 6, 7, 8, 9,10, 11, 13, 14], \n",
        "                        converters={'AC_NAME': lambda x:x.upper(),\n",
        "                                    'CAND_NAME': lambda x: x.upper()})\n",
        "la_2017  = la_2017.drop(la_2017[la_2017.ST_NAME != 'Uttar Pradesh'].index)\n",
        "la_2017 = la_2017.drop('ST_NAME', axis = 1).reset_index().drop('index', axis=1)\n",
        "la_2017"
      ],
      "execution_count": 0,
      "outputs": []
    },
    {
      "cell_type": "markdown",
      "metadata": {
        "id": "uc3TY9Ut4Blc",
        "colab_type": "text"
      },
      "source": [
        "## Join the dataframes"
      ]
    },
    {
      "cell_type": "code",
      "metadata": {
        "id": "Erkdpj9w00mz",
        "colab_type": "code",
        "colab": {}
      },
      "source": [
        "la17_df = la_2017.merge(right=df1_cand_details, \n",
        "                        how='left',\n",
        "                        on=['AC_NAME', 'CAND_NAME'])\n",
        "la17_df"
      ],
      "execution_count": 0,
      "outputs": []
    },
    {
      "cell_type": "markdown",
      "metadata": {
        "id": "k1-StSSvyV3x",
        "colab_type": "text"
      },
      "source": [
        "### Dropping NOTA"
      ]
    },
    {
      "cell_type": "code",
      "metadata": {
        "id": "4x3IJ1WAtmrp",
        "colab_type": "code",
        "colab": {}
      },
      "source": [
        "la17_df = la17_df[la17_df.CAND_NAME != 'NONE OF THE ABOVE']\n",
        "la17_df"
      ],
      "execution_count": 0,
      "outputs": []
    },
    {
      "cell_type": "markdown",
      "metadata": {
        "id": "Q78fauV7yg68",
        "colab_type": "text"
      },
      "source": [
        "### Dropping NaN values"
      ]
    },
    {
      "cell_type": "code",
      "metadata": {
        "id": "sM1W1hO7t0gJ",
        "colab_type": "code",
        "colab": {}
      },
      "source": [
        "la17_df = la17_df.dropna().reset_index(drop=True)\n",
        "la17_df"
      ],
      "execution_count": 0,
      "outputs": []
    },
    {
      "cell_type": "markdown",
      "metadata": {
        "id": "QNKAkPkuzx9q",
        "colab_type": "text"
      },
      "source": [
        "### Change datatypes of columns from float to int"
      ]
    },
    {
      "cell_type": "code",
      "metadata": {
        "id": "Tg3Fu4PI1T6z",
        "colab_type": "code",
        "colab": {}
      },
      "source": [
        "la17_df = la17_df.astype({\"CAND_AGE\": int, \"C_CASE\" : int, \"NET_ASSETS\": int})\n",
        "la17_df"
      ],
      "execution_count": 0,
      "outputs": []
    },
    {
      "cell_type": "markdown",
      "metadata": {
        "id": "bxjMRkAtQRm8",
        "colab_type": "text"
      },
      "source": [
        "## Set Targets"
      ]
    },
    {
      "cell_type": "code",
      "metadata": {
        "id": "R7E3GPuW5usu",
        "colab_type": "code",
        "colab": {}
      },
      "source": [
        "la17_df.loc[la17_df['POSITION'] == 1, 'POSITION'] = 1\n",
        "la17_df.loc[la17_df['POSITION'] > 1, 'POSITION'] = 0\n",
        "la17_df"
      ],
      "execution_count": 0,
      "outputs": []
    },
    {
      "cell_type": "code",
      "metadata": {
        "id": "vUtRT48gNEyP",
        "colab_type": "code",
        "colab": {}
      },
      "source": [
        ""
      ],
      "execution_count": 0,
      "outputs": []
    }
  ]
}