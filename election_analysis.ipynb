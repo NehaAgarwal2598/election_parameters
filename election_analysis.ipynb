{
  "nbformat": 4,
  "nbformat_minor": 0,
  "metadata": {
    "colab": {
      "name": "election_analysis.ipynb",
      "provenance": [],
      "collapsed_sections": [],
      "include_colab_link": true
    },
    "kernelspec": {
      "name": "python3",
      "display_name": "Python 3"
    }
  },
  "cells": [
    {
      "cell_type": "markdown",
      "metadata": {
        "id": "view-in-github",
        "colab_type": "text"
      },
      "source": [
        "<a href=\"https://colab.research.google.com/github/ayan59dutta/election_parameters/blob/master/election_analysis.ipynb\" target=\"_parent\"><img src=\"https://colab.research.google.com/assets/colab-badge.svg\" alt=\"Open In Colab\"/></a>"
      ]
    },
    {
      "cell_type": "markdown",
      "metadata": {
        "id": "eP3d-EP628aV",
        "colab_type": "text"
      },
      "source": [
        "# Load data from Github repo"
      ]
    },
    {
      "cell_type": "code",
      "metadata": {
        "id": "P8kxzxWt1hN0",
        "colab_type": "code",
        "outputId": "5fda095f-1ae8-4a0c-e55c-3258c4865e83",
        "colab": {
          "base_uri": "https://localhost:8080/",
          "height": 119
        }
      },
      "source": [
        "!git clone https://github.com/ayan59dutta/election_parameters.git"
      ],
      "execution_count": 1,
      "outputs": [
        {
          "output_type": "stream",
          "text": [
            "Cloning into 'election_parameters'...\n",
            "remote: Enumerating objects: 64, done.\u001b[K\n",
            "remote: Counting objects: 100% (64/64), done.\u001b[K\n",
            "remote: Compressing objects: 100% (60/60), done.\u001b[K\n",
            "remote: Total 64 (delta 34), reused 14 (delta 3), pack-reused 0\u001b[K\n",
            "Unpacking objects: 100% (64/64), done.\n"
          ],
          "name": "stdout"
        }
      ]
    },
    {
      "cell_type": "markdown",
      "metadata": {
        "id": "mE_xv_ic3G7P",
        "colab_type": "text"
      },
      "source": [
        "# Load data from file into dataframes"
      ]
    },
    {
      "cell_type": "code",
      "metadata": {
        "id": "XfR8Kq7T4Iru",
        "colab_type": "code",
        "colab": {}
      },
      "source": [
        "import pandas as pd\n",
        "import numpy as np\n",
        "import matplotlib.pyplot as plt\n",
        "import seaborn as sns"
      ],
      "execution_count": 0,
      "outputs": []
    },
    {
      "cell_type": "code",
      "metadata": {
        "id": "0mQ9oZxP_TMf",
        "colab_type": "code",
        "outputId": "c12a891e-0372-4879-e2cd-727f6c58dc58",
        "colab": {
          "base_uri": "https://localhost:8080/",
          "height": 419
        }
      },
      "source": [
        "colmn_list = ['Candidate', 'Constituency', 'Criminal Case', 'Education', 'Total Assets', 'Liabilities']\n",
        "\n",
        "def convert(x):\n",
        "    return int(x.split()[1].replace(',', '').replace('~', ''))\n",
        "\n",
        "df1_cand_details = pd.read_excel('election_parameters/data/MyNeta_UP_Assembly_ELections_2017.xlsx',\n",
        "                          usecols=colmn_list,\n",
        "                          converters={'Candidate': lambda x:x.upper(),\n",
        "                                     'Total Assets': convert,\n",
        "                                     'Liabilities': convert})\n",
        "\n",
        "df1_cand_details['Net Assets'] = df1_cand_details['Total Assets'] - df1_cand_details['Liabilities']\n",
        "df1_cand_details = df1_cand_details.drop(columns=['Total Assets', 'Liabilities'])\n",
        "df1_cand_details.rename(columns={'Candidate': 'CAND_NAME', \n",
        "                                 'Constituency': 'AC_NAME', \n",
        "                                 'Criminal Case': 'C_CASE',\n",
        "                                 'Education': 'EDU', \n",
        "                                 'Net Assets': 'NET_ASSETS'}, \n",
        "                        inplace=True)\n",
        "df1_cand_details"
      ],
      "execution_count": 51,
      "outputs": [
        {
          "output_type": "execute_result",
          "data": {
            "text/html": [
              "<div>\n",
              "<style scoped>\n",
              "    .dataframe tbody tr th:only-of-type {\n",
              "        vertical-align: middle;\n",
              "    }\n",
              "\n",
              "    .dataframe tbody tr th {\n",
              "        vertical-align: top;\n",
              "    }\n",
              "\n",
              "    .dataframe thead th {\n",
              "        text-align: right;\n",
              "    }\n",
              "</style>\n",
              "<table border=\"1\" class=\"dataframe\">\n",
              "  <thead>\n",
              "    <tr style=\"text-align: right;\">\n",
              "      <th></th>\n",
              "      <th>CAND_NAME</th>\n",
              "      <th>AC_NAME</th>\n",
              "      <th>C_CASE</th>\n",
              "      <th>EDU</th>\n",
              "      <th>NET_ASSETS</th>\n",
              "    </tr>\n",
              "  </thead>\n",
              "  <tbody>\n",
              "    <tr>\n",
              "      <th>0</th>\n",
              "      <td>A HASIV</td>\n",
              "      <td>ARYA NAGAR</td>\n",
              "      <td>0</td>\n",
              "      <td>12th Pass</td>\n",
              "      <td>33578492</td>\n",
              "    </tr>\n",
              "    <tr>\n",
              "      <th>1</th>\n",
              "      <td>A WAHID</td>\n",
              "      <td>GAINSARI</td>\n",
              "      <td>0</td>\n",
              "      <td>10th Pass</td>\n",
              "      <td>75106</td>\n",
              "    </tr>\n",
              "    <tr>\n",
              "      <th>2</th>\n",
              "      <td>AAN SHIKHAR SHRIVASTAVA</td>\n",
              "      <td>GOSHAINGANJ</td>\n",
              "      <td>0</td>\n",
              "      <td>Graduate</td>\n",
              "      <td>41000</td>\n",
              "    </tr>\n",
              "    <tr>\n",
              "      <th>3</th>\n",
              "      <td>AAPTAB URF AFTAB</td>\n",
              "      <td>MUBARAKPUR</td>\n",
              "      <td>0</td>\n",
              "      <td>Illiterate</td>\n",
              "      <td>20000</td>\n",
              "    </tr>\n",
              "    <tr>\n",
              "      <th>4</th>\n",
              "      <td>AASHI GAUR</td>\n",
              "      <td>KHATAULI</td>\n",
              "      <td>0</td>\n",
              "      <td>Literate</td>\n",
              "      <td>3468543</td>\n",
              "    </tr>\n",
              "    <tr>\n",
              "      <th>...</th>\n",
              "      <td>...</td>\n",
              "      <td>...</td>\n",
              "      <td>...</td>\n",
              "      <td>...</td>\n",
              "      <td>...</td>\n",
              "    </tr>\n",
              "    <tr>\n",
              "      <th>4822</th>\n",
              "      <td>ZAKIR ALI RANA</td>\n",
              "      <td>MUZAFFAR NAGAR</td>\n",
              "      <td>1</td>\n",
              "      <td>12th Pass</td>\n",
              "      <td>46819551</td>\n",
              "    </tr>\n",
              "    <tr>\n",
              "      <th>4823</th>\n",
              "      <td>ZAMEER ULLAH KHAN</td>\n",
              "      <td>KOIL</td>\n",
              "      <td>3</td>\n",
              "      <td>8th Pass</td>\n",
              "      <td>14521200</td>\n",
              "    </tr>\n",
              "    <tr>\n",
              "      <th>4824</th>\n",
              "      <td>ZEBA RIZWAN</td>\n",
              "      <td>TULSIPUR</td>\n",
              "      <td>0</td>\n",
              "      <td>Post Graduate</td>\n",
              "      <td>357000</td>\n",
              "    </tr>\n",
              "    <tr>\n",
              "      <th>4825</th>\n",
              "      <td>ZIYAUDDIN RIZVI</td>\n",
              "      <td>SIKANDERPUR</td>\n",
              "      <td>0</td>\n",
              "      <td>Graduate</td>\n",
              "      <td>22463063</td>\n",
              "    </tr>\n",
              "    <tr>\n",
              "      <th>4826</th>\n",
              "      <td>ZURGHAM MEHDI</td>\n",
              "      <td>KATEHARI</td>\n",
              "      <td>0</td>\n",
              "      <td>Graduate Professional</td>\n",
              "      <td>11073183</td>\n",
              "    </tr>\n",
              "  </tbody>\n",
              "</table>\n",
              "<p>4827 rows × 5 columns</p>\n",
              "</div>"
            ],
            "text/plain": [
              "                    CAND_NAME  ... NET_ASSETS\n",
              "0                     A HASIV  ...   33578492\n",
              "1                     A WAHID  ...      75106\n",
              "2     AAN SHIKHAR SHRIVASTAVA  ...      41000\n",
              "3            AAPTAB URF AFTAB  ...      20000\n",
              "4                  AASHI GAUR  ...    3468543\n",
              "...                       ...  ...        ...\n",
              "4822           ZAKIR ALI RANA  ...   46819551\n",
              "4823        ZAMEER ULLAH KHAN  ...   14521200\n",
              "4824              ZEBA RIZWAN  ...     357000\n",
              "4825          ZIYAUDDIN RIZVI  ...   22463063\n",
              "4826            ZURGHAM MEHDI  ...   11073183\n",
              "\n",
              "[4827 rows x 5 columns]"
            ]
          },
          "metadata": {
            "tags": []
          },
          "execution_count": 51
        }
      ]
    },
    {
      "cell_type": "code",
      "metadata": {
        "id": "3yqhW5y8Qxq6",
        "colab_type": "code",
        "outputId": "2f2cc408-2d51-4870-8957-7da8d60ded86",
        "colab": {
          "base_uri": "https://localhost:8080/",
          "height": 419
        }
      },
      "source": [
        "colmn_list = ['ST_CODE', 'AC_NAME', 'AC_TYPE', 'CAND_NAME', 'CAND_SEX', \n",
        "              'CAND_CATEGORY', 'CAND_AGE', 'TOTVOTPOLL', 'POSITION']\n",
        "\n",
        "df_ae12 = pd.read_excel('election_parameters/data/AE2012_8913.xls',\n",
        "                        usecols=colmn_list,\n",
        "                        header=1,\n",
        "                        converters={'AC_NAME': lambda x: x.upper()})\n",
        "\n",
        "df_ae12 = df_ae12[df_ae12.ST_CODE == 'S24']\n",
        "\n",
        "df_ae12 = df_ae12.drop('ST_CODE', axis=1).reset_index().drop('index', axis=1)\n",
        "\n",
        "df_ae12"
      ],
      "execution_count": 52,
      "outputs": [
        {
          "output_type": "execute_result",
          "data": {
            "text/html": [
              "<div>\n",
              "<style scoped>\n",
              "    .dataframe tbody tr th:only-of-type {\n",
              "        vertical-align: middle;\n",
              "    }\n",
              "\n",
              "    .dataframe tbody tr th {\n",
              "        vertical-align: top;\n",
              "    }\n",
              "\n",
              "    .dataframe thead th {\n",
              "        text-align: right;\n",
              "    }\n",
              "</style>\n",
              "<table border=\"1\" class=\"dataframe\">\n",
              "  <thead>\n",
              "    <tr style=\"text-align: right;\">\n",
              "      <th></th>\n",
              "      <th>AC_NAME</th>\n",
              "      <th>AC_TYPE</th>\n",
              "      <th>CAND_NAME</th>\n",
              "      <th>CAND_SEX</th>\n",
              "      <th>CAND_CATEGORY</th>\n",
              "      <th>CAND_AGE</th>\n",
              "      <th>TOTVOTPOLL</th>\n",
              "      <th>POSITION</th>\n",
              "    </tr>\n",
              "  </thead>\n",
              "  <tbody>\n",
              "    <tr>\n",
              "      <th>0</th>\n",
              "      <td>BEHAT</td>\n",
              "      <td>GEN</td>\n",
              "      <td>MAHAVEER SINGH RANA</td>\n",
              "      <td>M</td>\n",
              "      <td>GEN</td>\n",
              "      <td>50</td>\n",
              "      <td>70274</td>\n",
              "      <td>1</td>\n",
              "    </tr>\n",
              "    <tr>\n",
              "      <th>1</th>\n",
              "      <td>BEHAT</td>\n",
              "      <td>GEN</td>\n",
              "      <td>NARESH</td>\n",
              "      <td>M</td>\n",
              "      <td>GEN</td>\n",
              "      <td>47</td>\n",
              "      <td>69760</td>\n",
              "      <td>2</td>\n",
              "    </tr>\n",
              "    <tr>\n",
              "      <th>2</th>\n",
              "      <td>BEHAT</td>\n",
              "      <td>GEN</td>\n",
              "      <td>UMAR ALI KHAN</td>\n",
              "      <td>M</td>\n",
              "      <td>GEN</td>\n",
              "      <td>34</td>\n",
              "      <td>47366</td>\n",
              "      <td>3</td>\n",
              "    </tr>\n",
              "    <tr>\n",
              "      <th>3</th>\n",
              "      <td>BEHAT</td>\n",
              "      <td>GEN</td>\n",
              "      <td>AJAY CHAUHAN</td>\n",
              "      <td>M</td>\n",
              "      <td>GEN</td>\n",
              "      <td>29</td>\n",
              "      <td>23623</td>\n",
              "      <td>4</td>\n",
              "    </tr>\n",
              "    <tr>\n",
              "      <th>4</th>\n",
              "      <td>BEHAT</td>\n",
              "      <td>GEN</td>\n",
              "      <td>DHARAM SINGH</td>\n",
              "      <td>M</td>\n",
              "      <td>SC</td>\n",
              "      <td>39</td>\n",
              "      <td>2251</td>\n",
              "      <td>5</td>\n",
              "    </tr>\n",
              "    <tr>\n",
              "      <th>...</th>\n",
              "      <td>...</td>\n",
              "      <td>...</td>\n",
              "      <td>...</td>\n",
              "      <td>...</td>\n",
              "      <td>...</td>\n",
              "      <td>...</td>\n",
              "      <td>...</td>\n",
              "      <td>...</td>\n",
              "    </tr>\n",
              "    <tr>\n",
              "      <th>7026</th>\n",
              "      <td>DUDDHI</td>\n",
              "      <td>SC</td>\n",
              "      <td>RAJA RAM</td>\n",
              "      <td>M</td>\n",
              "      <td>SC</td>\n",
              "      <td>46</td>\n",
              "      <td>2876</td>\n",
              "      <td>7</td>\n",
              "    </tr>\n",
              "    <tr>\n",
              "      <th>7027</th>\n",
              "      <td>DUDDHI</td>\n",
              "      <td>SC</td>\n",
              "      <td>RADHESHYAM GOND</td>\n",
              "      <td>M</td>\n",
              "      <td>SC</td>\n",
              "      <td>50</td>\n",
              "      <td>1813</td>\n",
              "      <td>8</td>\n",
              "    </tr>\n",
              "    <tr>\n",
              "      <th>7028</th>\n",
              "      <td>DUDDHI</td>\n",
              "      <td>SC</td>\n",
              "      <td>GAMBHIRA PRASAD</td>\n",
              "      <td>M</td>\n",
              "      <td>SC</td>\n",
              "      <td>43</td>\n",
              "      <td>1690</td>\n",
              "      <td>9</td>\n",
              "    </tr>\n",
              "    <tr>\n",
              "      <th>7029</th>\n",
              "      <td>DUDDHI</td>\n",
              "      <td>SC</td>\n",
              "      <td>BIHARI LAL</td>\n",
              "      <td>M</td>\n",
              "      <td>SC</td>\n",
              "      <td>50</td>\n",
              "      <td>1439</td>\n",
              "      <td>10</td>\n",
              "    </tr>\n",
              "    <tr>\n",
              "      <th>7030</th>\n",
              "      <td>DUDDHI</td>\n",
              "      <td>SC</td>\n",
              "      <td>RAMJI SINGH GOND</td>\n",
              "      <td>M</td>\n",
              "      <td>SC</td>\n",
              "      <td>58</td>\n",
              "      <td>1057</td>\n",
              "      <td>11</td>\n",
              "    </tr>\n",
              "  </tbody>\n",
              "</table>\n",
              "<p>7031 rows × 8 columns</p>\n",
              "</div>"
            ],
            "text/plain": [
              "      AC_NAME AC_TYPE            CAND_NAME  ... CAND_AGE TOTVOTPOLL  POSITION\n",
              "0       BEHAT     GEN  MAHAVEER SINGH RANA  ...       50      70274         1\n",
              "1       BEHAT     GEN               NARESH  ...       47      69760         2\n",
              "2       BEHAT     GEN        UMAR ALI KHAN  ...       34      47366         3\n",
              "3       BEHAT     GEN         AJAY CHAUHAN  ...       29      23623         4\n",
              "4       BEHAT     GEN         DHARAM SINGH  ...       39       2251         5\n",
              "...       ...     ...                  ...  ...      ...        ...       ...\n",
              "7026  DUDDHI       SC             RAJA RAM  ...       46       2876         7\n",
              "7027  DUDDHI       SC      RADHESHYAM GOND  ...       50       1813         8\n",
              "7028  DUDDHI       SC      GAMBHIRA PRASAD  ...       43       1690         9\n",
              "7029  DUDDHI       SC           BIHARI LAL  ...       50       1439        10\n",
              "7030  DUDDHI       SC     RAMJI SINGH GOND  ...       58       1057        11\n",
              "\n",
              "[7031 rows x 8 columns]"
            ]
          },
          "metadata": {
            "tags": []
          },
          "execution_count": 52
        }
      ]
    },
    {
      "cell_type": "code",
      "metadata": {
        "id": "Z7eMMwp5W7_g",
        "colab_type": "code",
        "outputId": "8199ec5d-dd7b-419f-cbd5-fab1466d7d66",
        "colab": {
          "base_uri": "https://localhost:8080/",
          "height": 419
        }
      },
      "source": [
        "la_2017 = pd.read_excel('election_parameters/data/LA_2017.xls', \n",
        "                        usecols = [1, 6, 7, 8, 9,10, 11, 13, 14], \n",
        "                        converters={'AC_NAME': lambda x:x.upper(),\n",
        "                                    'CAND_NAME': lambda x: x.upper()})\n",
        "la_2017  = la_2017.drop(la_2017[la_2017.ST_NAME != 'Uttar Pradesh'].index)\n",
        "la_2017 = la_2017.drop('ST_NAME', axis = 1).reset_index().drop('index', axis=1)\n",
        "la_2017"
      ],
      "execution_count": 53,
      "outputs": [
        {
          "output_type": "execute_result",
          "data": {
            "text/html": [
              "<div>\n",
              "<style scoped>\n",
              "    .dataframe tbody tr th:only-of-type {\n",
              "        vertical-align: middle;\n",
              "    }\n",
              "\n",
              "    .dataframe tbody tr th {\n",
              "        vertical-align: top;\n",
              "    }\n",
              "\n",
              "    .dataframe thead th {\n",
              "        text-align: right;\n",
              "    }\n",
              "</style>\n",
              "<table border=\"1\" class=\"dataframe\">\n",
              "  <thead>\n",
              "    <tr style=\"text-align: right;\">\n",
              "      <th></th>\n",
              "      <th>AC_NAME</th>\n",
              "      <th>AC_TYPE</th>\n",
              "      <th>CAND_NAME</th>\n",
              "      <th>CAND_SEX</th>\n",
              "      <th>CAND_CATEGORY</th>\n",
              "      <th>CAND_AGE</th>\n",
              "      <th>TOTALVALIDVOTESPOLLED</th>\n",
              "      <th>POSITION</th>\n",
              "    </tr>\n",
              "  </thead>\n",
              "  <tbody>\n",
              "    <tr>\n",
              "      <th>0</th>\n",
              "      <td>BEHAT</td>\n",
              "      <td>GEN</td>\n",
              "      <td>NARESH SAINI</td>\n",
              "      <td>M</td>\n",
              "      <td>GEN</td>\n",
              "      <td>53.0</td>\n",
              "      <td>97035</td>\n",
              "      <td>1</td>\n",
              "    </tr>\n",
              "    <tr>\n",
              "      <th>1</th>\n",
              "      <td>BEHAT</td>\n",
              "      <td>GEN</td>\n",
              "      <td>MAHAVEER SINGH RANA</td>\n",
              "      <td>M</td>\n",
              "      <td>GEN</td>\n",
              "      <td>55.0</td>\n",
              "      <td>71449</td>\n",
              "      <td>2</td>\n",
              "    </tr>\n",
              "    <tr>\n",
              "      <th>2</th>\n",
              "      <td>BEHAT</td>\n",
              "      <td>GEN</td>\n",
              "      <td>MOHD. IQBAL</td>\n",
              "      <td>M</td>\n",
              "      <td>GEN</td>\n",
              "      <td>52.0</td>\n",
              "      <td>71019</td>\n",
              "      <td>3</td>\n",
              "    </tr>\n",
              "    <tr>\n",
              "      <th>3</th>\n",
              "      <td>BEHAT</td>\n",
              "      <td>GEN</td>\n",
              "      <td>RANA ADITYA PRATAP SINGH</td>\n",
              "      <td>M</td>\n",
              "      <td>GEN</td>\n",
              "      <td>49.0</td>\n",
              "      <td>4187</td>\n",
              "      <td>4</td>\n",
              "    </tr>\n",
              "    <tr>\n",
              "      <th>4</th>\n",
              "      <td>BEHAT</td>\n",
              "      <td>GEN</td>\n",
              "      <td>NONE OF THE ABOVE</td>\n",
              "      <td>NaN</td>\n",
              "      <td>NaN</td>\n",
              "      <td>NaN</td>\n",
              "      <td>1576</td>\n",
              "      <td>5</td>\n",
              "    </tr>\n",
              "    <tr>\n",
              "      <th>...</th>\n",
              "      <td>...</td>\n",
              "      <td>...</td>\n",
              "      <td>...</td>\n",
              "      <td>...</td>\n",
              "      <td>...</td>\n",
              "      <td>...</td>\n",
              "      <td>...</td>\n",
              "      <td>...</td>\n",
              "    </tr>\n",
              "    <tr>\n",
              "      <th>5302</th>\n",
              "      <td>DUDDHI</td>\n",
              "      <td>ST</td>\n",
              "      <td>PRATOSH KUMAR</td>\n",
              "      <td>M</td>\n",
              "      <td>ST</td>\n",
              "      <td>55.0</td>\n",
              "      <td>4699</td>\n",
              "      <td>5</td>\n",
              "    </tr>\n",
              "    <tr>\n",
              "      <th>5303</th>\n",
              "      <td>DUDDHI</td>\n",
              "      <td>ST</td>\n",
              "      <td>SHIVKUMAR KHARWAR</td>\n",
              "      <td>M</td>\n",
              "      <td>ST</td>\n",
              "      <td>44.0</td>\n",
              "      <td>3312</td>\n",
              "      <td>6</td>\n",
              "    </tr>\n",
              "    <tr>\n",
              "      <th>5304</th>\n",
              "      <td>DUDDHI</td>\n",
              "      <td>ST</td>\n",
              "      <td>VIGAN RAM</td>\n",
              "      <td>M</td>\n",
              "      <td>ST</td>\n",
              "      <td>49.0</td>\n",
              "      <td>2431</td>\n",
              "      <td>7</td>\n",
              "    </tr>\n",
              "    <tr>\n",
              "      <th>5305</th>\n",
              "      <td>DUDDHI</td>\n",
              "      <td>ST</td>\n",
              "      <td>AMAR SINGH</td>\n",
              "      <td>M</td>\n",
              "      <td>ST</td>\n",
              "      <td>35.0</td>\n",
              "      <td>2147</td>\n",
              "      <td>8</td>\n",
              "    </tr>\n",
              "    <tr>\n",
              "      <th>5306</th>\n",
              "      <td>DUDDHI</td>\n",
              "      <td>ST</td>\n",
              "      <td>ASHARFI</td>\n",
              "      <td>M</td>\n",
              "      <td>ST</td>\n",
              "      <td>53.0</td>\n",
              "      <td>1686</td>\n",
              "      <td>9</td>\n",
              "    </tr>\n",
              "  </tbody>\n",
              "</table>\n",
              "<p>5307 rows × 8 columns</p>\n",
              "</div>"
            ],
            "text/plain": [
              "      AC_NAME AC_TYPE  ... TOTALVALIDVOTESPOLLED POSITION\n",
              "0       BEHAT     GEN  ...                 97035        1\n",
              "1       BEHAT     GEN  ...                 71449        2\n",
              "2       BEHAT     GEN  ...                 71019        3\n",
              "3       BEHAT     GEN  ...                  4187        4\n",
              "4       BEHAT     GEN  ...                  1576        5\n",
              "...       ...     ...  ...                   ...      ...\n",
              "5302  DUDDHI       ST  ...                  4699        5\n",
              "5303  DUDDHI       ST  ...                  3312        6\n",
              "5304  DUDDHI       ST  ...                  2431        7\n",
              "5305  DUDDHI       ST  ...                  2147        8\n",
              "5306  DUDDHI       ST  ...                  1686        9\n",
              "\n",
              "[5307 rows x 8 columns]"
            ]
          },
          "metadata": {
            "tags": []
          },
          "execution_count": 53
        }
      ]
    },
    {
      "cell_type": "markdown",
      "metadata": {
        "id": "O4KuspJjk5RN",
        "colab_type": "text"
      },
      "source": [
        "## Anti-Incumbency Check"
      ]
    },
    {
      "cell_type": "code",
      "metadata": {
        "id": "nSnh6TEvk2uu",
        "colab_type": "code",
        "outputId": "24e743b8-3201-4a54-f512-e0c537c49252",
        "colab": {
          "base_uri": "https://localhost:8080/",
          "height": 510
        }
      },
      "source": [
        "winners_ae12 = df_ae12[df_ae12['POSITION'] == 1]\n",
        "winners_la17 = la_2017[la_2017['POSITION'] == 1]\n",
        "print(winners_ae12)\n",
        "print(winners_la17)\n",
        "\n",
        "#winners_ae12 \n",
        "\n",
        "# no_of_winners_12and17 = 0\n",
        "# no_of_winners_12not17 = 0\n",
        "# no_of_winners_12abs17 = 0\n",
        "\n",
        "# for index, row in winners_ae12.iterrows():\n",
        "#   #print(row.CAND_NAME)\n",
        "#   if row.CAND_NAME in la_2017['CAND_NAME']:\n",
        "#     print(row.CAND_NAME)\n",
        "#     break\n",
        "# else:\n",
        "#   print('Over')\n",
        "  \n",
        "set1 = set(winners_ae12.CAND_NAME)\n",
        "# print(set1)\n",
        "set2 = set(winners_ae12.CAND_NAME)\n",
        "# set2\n",
        "set12 = set1.intersection(set2)\n",
        "len(set12)"
      ],
      "execution_count": 0,
      "outputs": [
        {
          "output_type": "stream",
          "text": [
            "               AC_NAME AC_TYPE  ... TOTVOTPOLL POSITION\n",
            "0                BEHAT     GEN  ...      70274        1\n",
            "13               NAKUR     GEN  ...      89187        1\n",
            "29    SAHARANPUR NAGAR     GEN  ...      85170        1\n",
            "47        SAHARANPUR       GEN  ...      80670        1\n",
            "62             DEOBAND     GEN  ...      66682        1\n",
            "...                ...     ...  ...        ...      ...\n",
            "6923           MARIHAN     GEN  ...      63492        1\n",
            "6946          GHORAWAL     GEN  ...      87708        1\n",
            "6963       ROBERTSGANJ     GEN  ...      47139        1\n",
            "6990              OBRA     GEN  ...      31513        1\n",
            "7020           DUDDHI       SC  ...      42028        1\n",
            "\n",
            "[403 rows x 8 columns]\n",
            "               AC_NAME AC_TYPE  ... TOTALVALIDVOTESPOLLED POSITION\n",
            "0                BEHAT     GEN  ...                 97035        1\n",
            "14               NAKUR     GEN  ...                 94375        1\n",
            "26    SAHARANPUR NAGAR     GEN  ...                127210        1\n",
            "41        SAHARANPUR       GEN  ...                 87689        1\n",
            "55             DEOBAND     GEN  ...                102244        1\n",
            "...                ...     ...  ...                   ...      ...\n",
            "5237           MARIHAN     GEN  ...                106517        1\n",
            "5252          GHORAWAL     GEN  ...                114305        1\n",
            "5266       ROBERTSGANJ     GEN  ...                 89932        1\n",
            "5286              OBRA      ST  ...                 78058        1\n",
            "5298           DUDDHI       ST  ...                 64399        1\n",
            "\n",
            "[403 rows x 8 columns]\n"
          ],
          "name": "stdout"
        },
        {
          "output_type": "execute_result",
          "data": {
            "text/plain": [
              "400"
            ]
          },
          "metadata": {
            "tags": []
          },
          "execution_count": 6
        }
      ]
    },
    {
      "cell_type": "code",
      "metadata": {
        "id": "29xQessM2rnM",
        "colab_type": "code",
        "outputId": "7c09ab07-7724-4868-badc-b5786bc47ac1",
        "colab": {
          "base_uri": "https://localhost:8080/",
          "height": 221
        }
      },
      "source": [
        "la_2017.CAND_NAME"
      ],
      "execution_count": 0,
      "outputs": [
        {
          "output_type": "execute_result",
          "data": {
            "text/plain": [
              "0                   NARESH SAINI\n",
              "1            MAHAVEER SINGH RANA\n",
              "2                    MOHD. IQBAL\n",
              "3       RANA ADITYA PRATAP SINGH\n",
              "4              NONE OF THE ABOVE\n",
              "                  ...           \n",
              "5302               PRATOSH KUMAR\n",
              "5303           SHIVKUMAR KHARWAR\n",
              "5304                   VIGAN RAM\n",
              "5305                  AMAR SINGH\n",
              "5306                     ASHARFI\n",
              "Name: CAND_NAME, Length: 5307, dtype: object"
            ]
          },
          "metadata": {
            "tags": []
          },
          "execution_count": 7
        }
      ]
    },
    {
      "cell_type": "markdown",
      "metadata": {
        "id": "uc3TY9Ut4Blc",
        "colab_type": "text"
      },
      "source": [
        "## Join the dataframes"
      ]
    },
    {
      "cell_type": "code",
      "metadata": {
        "id": "Erkdpj9w00mz",
        "colab_type": "code",
        "outputId": "0182cbfe-aabe-458e-b4ab-d0d62770a4ff",
        "colab": {
          "base_uri": "https://localhost:8080/",
          "height": 419
        }
      },
      "source": [
        "la17_df = la_2017.merge(right=df1_cand_details, \n",
        "                        how='left',\n",
        "                        on=['AC_NAME', 'CAND_NAME'])\n",
        "la17_df"
      ],
      "execution_count": 54,
      "outputs": [
        {
          "output_type": "execute_result",
          "data": {
            "text/html": [
              "<div>\n",
              "<style scoped>\n",
              "    .dataframe tbody tr th:only-of-type {\n",
              "        vertical-align: middle;\n",
              "    }\n",
              "\n",
              "    .dataframe tbody tr th {\n",
              "        vertical-align: top;\n",
              "    }\n",
              "\n",
              "    .dataframe thead th {\n",
              "        text-align: right;\n",
              "    }\n",
              "</style>\n",
              "<table border=\"1\" class=\"dataframe\">\n",
              "  <thead>\n",
              "    <tr style=\"text-align: right;\">\n",
              "      <th></th>\n",
              "      <th>AC_NAME</th>\n",
              "      <th>AC_TYPE</th>\n",
              "      <th>CAND_NAME</th>\n",
              "      <th>CAND_SEX</th>\n",
              "      <th>CAND_CATEGORY</th>\n",
              "      <th>CAND_AGE</th>\n",
              "      <th>TOTALVALIDVOTESPOLLED</th>\n",
              "      <th>POSITION</th>\n",
              "      <th>C_CASE</th>\n",
              "      <th>EDU</th>\n",
              "      <th>NET_ASSETS</th>\n",
              "    </tr>\n",
              "  </thead>\n",
              "  <tbody>\n",
              "    <tr>\n",
              "      <th>0</th>\n",
              "      <td>BEHAT</td>\n",
              "      <td>GEN</td>\n",
              "      <td>NARESH SAINI</td>\n",
              "      <td>M</td>\n",
              "      <td>GEN</td>\n",
              "      <td>53.0</td>\n",
              "      <td>97035</td>\n",
              "      <td>1</td>\n",
              "      <td>0.0</td>\n",
              "      <td>Post Graduate</td>\n",
              "      <td>10382291.0</td>\n",
              "    </tr>\n",
              "    <tr>\n",
              "      <th>1</th>\n",
              "      <td>BEHAT</td>\n",
              "      <td>GEN</td>\n",
              "      <td>MAHAVEER SINGH RANA</td>\n",
              "      <td>M</td>\n",
              "      <td>GEN</td>\n",
              "      <td>55.0</td>\n",
              "      <td>71449</td>\n",
              "      <td>2</td>\n",
              "      <td>0.0</td>\n",
              "      <td>Graduate Professional</td>\n",
              "      <td>52678213.0</td>\n",
              "    </tr>\n",
              "    <tr>\n",
              "      <th>2</th>\n",
              "      <td>BEHAT</td>\n",
              "      <td>GEN</td>\n",
              "      <td>MOHD. IQBAL</td>\n",
              "      <td>M</td>\n",
              "      <td>GEN</td>\n",
              "      <td>52.0</td>\n",
              "      <td>71019</td>\n",
              "      <td>3</td>\n",
              "      <td>0.0</td>\n",
              "      <td>Literate</td>\n",
              "      <td>129888857.0</td>\n",
              "    </tr>\n",
              "    <tr>\n",
              "      <th>3</th>\n",
              "      <td>BEHAT</td>\n",
              "      <td>GEN</td>\n",
              "      <td>RANA ADITYA PRATAP SINGH</td>\n",
              "      <td>M</td>\n",
              "      <td>GEN</td>\n",
              "      <td>49.0</td>\n",
              "      <td>4187</td>\n",
              "      <td>4</td>\n",
              "      <td>0.0</td>\n",
              "      <td>12th Pass</td>\n",
              "      <td>65633483.0</td>\n",
              "    </tr>\n",
              "    <tr>\n",
              "      <th>4</th>\n",
              "      <td>BEHAT</td>\n",
              "      <td>GEN</td>\n",
              "      <td>NONE OF THE ABOVE</td>\n",
              "      <td>NaN</td>\n",
              "      <td>NaN</td>\n",
              "      <td>NaN</td>\n",
              "      <td>1576</td>\n",
              "      <td>5</td>\n",
              "      <td>NaN</td>\n",
              "      <td>NaN</td>\n",
              "      <td>NaN</td>\n",
              "    </tr>\n",
              "    <tr>\n",
              "      <th>...</th>\n",
              "      <td>...</td>\n",
              "      <td>...</td>\n",
              "      <td>...</td>\n",
              "      <td>...</td>\n",
              "      <td>...</td>\n",
              "      <td>...</td>\n",
              "      <td>...</td>\n",
              "      <td>...</td>\n",
              "      <td>...</td>\n",
              "      <td>...</td>\n",
              "      <td>...</td>\n",
              "    </tr>\n",
              "    <tr>\n",
              "      <th>5314</th>\n",
              "      <td>DUDDHI</td>\n",
              "      <td>ST</td>\n",
              "      <td>PRATOSH KUMAR</td>\n",
              "      <td>M</td>\n",
              "      <td>ST</td>\n",
              "      <td>55.0</td>\n",
              "      <td>4699</td>\n",
              "      <td>5</td>\n",
              "      <td>NaN</td>\n",
              "      <td>NaN</td>\n",
              "      <td>NaN</td>\n",
              "    </tr>\n",
              "    <tr>\n",
              "      <th>5315</th>\n",
              "      <td>DUDDHI</td>\n",
              "      <td>ST</td>\n",
              "      <td>SHIVKUMAR KHARWAR</td>\n",
              "      <td>M</td>\n",
              "      <td>ST</td>\n",
              "      <td>44.0</td>\n",
              "      <td>3312</td>\n",
              "      <td>6</td>\n",
              "      <td>NaN</td>\n",
              "      <td>NaN</td>\n",
              "      <td>NaN</td>\n",
              "    </tr>\n",
              "    <tr>\n",
              "      <th>5316</th>\n",
              "      <td>DUDDHI</td>\n",
              "      <td>ST</td>\n",
              "      <td>VIGAN RAM</td>\n",
              "      <td>M</td>\n",
              "      <td>ST</td>\n",
              "      <td>49.0</td>\n",
              "      <td>2431</td>\n",
              "      <td>7</td>\n",
              "      <td>NaN</td>\n",
              "      <td>NaN</td>\n",
              "      <td>NaN</td>\n",
              "    </tr>\n",
              "    <tr>\n",
              "      <th>5317</th>\n",
              "      <td>DUDDHI</td>\n",
              "      <td>ST</td>\n",
              "      <td>AMAR SINGH</td>\n",
              "      <td>M</td>\n",
              "      <td>ST</td>\n",
              "      <td>35.0</td>\n",
              "      <td>2147</td>\n",
              "      <td>8</td>\n",
              "      <td>NaN</td>\n",
              "      <td>NaN</td>\n",
              "      <td>NaN</td>\n",
              "    </tr>\n",
              "    <tr>\n",
              "      <th>5318</th>\n",
              "      <td>DUDDHI</td>\n",
              "      <td>ST</td>\n",
              "      <td>ASHARFI</td>\n",
              "      <td>M</td>\n",
              "      <td>ST</td>\n",
              "      <td>53.0</td>\n",
              "      <td>1686</td>\n",
              "      <td>9</td>\n",
              "      <td>NaN</td>\n",
              "      <td>NaN</td>\n",
              "      <td>NaN</td>\n",
              "    </tr>\n",
              "  </tbody>\n",
              "</table>\n",
              "<p>5319 rows × 11 columns</p>\n",
              "</div>"
            ],
            "text/plain": [
              "      AC_NAME AC_TYPE  ...                    EDU   NET_ASSETS\n",
              "0       BEHAT     GEN  ...          Post Graduate   10382291.0\n",
              "1       BEHAT     GEN  ...  Graduate Professional   52678213.0\n",
              "2       BEHAT     GEN  ...               Literate  129888857.0\n",
              "3       BEHAT     GEN  ...              12th Pass   65633483.0\n",
              "4       BEHAT     GEN  ...                    NaN          NaN\n",
              "...       ...     ...  ...                    ...          ...\n",
              "5314  DUDDHI       ST  ...                    NaN          NaN\n",
              "5315  DUDDHI       ST  ...                    NaN          NaN\n",
              "5316  DUDDHI       ST  ...                    NaN          NaN\n",
              "5317  DUDDHI       ST  ...                    NaN          NaN\n",
              "5318  DUDDHI       ST  ...                    NaN          NaN\n",
              "\n",
              "[5319 rows x 11 columns]"
            ]
          },
          "metadata": {
            "tags": []
          },
          "execution_count": 54
        }
      ]
    },
    {
      "cell_type": "markdown",
      "metadata": {
        "id": "k1-StSSvyV3x",
        "colab_type": "text"
      },
      "source": [
        "### Dropping NOTA"
      ]
    },
    {
      "cell_type": "code",
      "metadata": {
        "id": "4x3IJ1WAtmrp",
        "colab_type": "code",
        "outputId": "0a96f8d7-0e22-4279-85e5-abec20ef830d",
        "colab": {
          "base_uri": "https://localhost:8080/",
          "height": 419
        }
      },
      "source": [
        "la17_df = la17_df[la17_df.CAND_NAME != 'NONE OF THE ABOVE']\n",
        "la17_df"
      ],
      "execution_count": 55,
      "outputs": [
        {
          "output_type": "execute_result",
          "data": {
            "text/html": [
              "<div>\n",
              "<style scoped>\n",
              "    .dataframe tbody tr th:only-of-type {\n",
              "        vertical-align: middle;\n",
              "    }\n",
              "\n",
              "    .dataframe tbody tr th {\n",
              "        vertical-align: top;\n",
              "    }\n",
              "\n",
              "    .dataframe thead th {\n",
              "        text-align: right;\n",
              "    }\n",
              "</style>\n",
              "<table border=\"1\" class=\"dataframe\">\n",
              "  <thead>\n",
              "    <tr style=\"text-align: right;\">\n",
              "      <th></th>\n",
              "      <th>AC_NAME</th>\n",
              "      <th>AC_TYPE</th>\n",
              "      <th>CAND_NAME</th>\n",
              "      <th>CAND_SEX</th>\n",
              "      <th>CAND_CATEGORY</th>\n",
              "      <th>CAND_AGE</th>\n",
              "      <th>TOTALVALIDVOTESPOLLED</th>\n",
              "      <th>POSITION</th>\n",
              "      <th>C_CASE</th>\n",
              "      <th>EDU</th>\n",
              "      <th>NET_ASSETS</th>\n",
              "    </tr>\n",
              "  </thead>\n",
              "  <tbody>\n",
              "    <tr>\n",
              "      <th>0</th>\n",
              "      <td>BEHAT</td>\n",
              "      <td>GEN</td>\n",
              "      <td>NARESH SAINI</td>\n",
              "      <td>M</td>\n",
              "      <td>GEN</td>\n",
              "      <td>53.0</td>\n",
              "      <td>97035</td>\n",
              "      <td>1</td>\n",
              "      <td>0.0</td>\n",
              "      <td>Post Graduate</td>\n",
              "      <td>10382291.0</td>\n",
              "    </tr>\n",
              "    <tr>\n",
              "      <th>1</th>\n",
              "      <td>BEHAT</td>\n",
              "      <td>GEN</td>\n",
              "      <td>MAHAVEER SINGH RANA</td>\n",
              "      <td>M</td>\n",
              "      <td>GEN</td>\n",
              "      <td>55.0</td>\n",
              "      <td>71449</td>\n",
              "      <td>2</td>\n",
              "      <td>0.0</td>\n",
              "      <td>Graduate Professional</td>\n",
              "      <td>52678213.0</td>\n",
              "    </tr>\n",
              "    <tr>\n",
              "      <th>2</th>\n",
              "      <td>BEHAT</td>\n",
              "      <td>GEN</td>\n",
              "      <td>MOHD. IQBAL</td>\n",
              "      <td>M</td>\n",
              "      <td>GEN</td>\n",
              "      <td>52.0</td>\n",
              "      <td>71019</td>\n",
              "      <td>3</td>\n",
              "      <td>0.0</td>\n",
              "      <td>Literate</td>\n",
              "      <td>129888857.0</td>\n",
              "    </tr>\n",
              "    <tr>\n",
              "      <th>3</th>\n",
              "      <td>BEHAT</td>\n",
              "      <td>GEN</td>\n",
              "      <td>RANA ADITYA PRATAP SINGH</td>\n",
              "      <td>M</td>\n",
              "      <td>GEN</td>\n",
              "      <td>49.0</td>\n",
              "      <td>4187</td>\n",
              "      <td>4</td>\n",
              "      <td>0.0</td>\n",
              "      <td>12th Pass</td>\n",
              "      <td>65633483.0</td>\n",
              "    </tr>\n",
              "    <tr>\n",
              "      <th>5</th>\n",
              "      <td>BEHAT</td>\n",
              "      <td>GEN</td>\n",
              "      <td>KAMRAN ALI</td>\n",
              "      <td>M</td>\n",
              "      <td>GEN</td>\n",
              "      <td>37.0</td>\n",
              "      <td>1255</td>\n",
              "      <td>6</td>\n",
              "      <td>0.0</td>\n",
              "      <td>10th Pass</td>\n",
              "      <td>682859.0</td>\n",
              "    </tr>\n",
              "    <tr>\n",
              "      <th>...</th>\n",
              "      <td>...</td>\n",
              "      <td>...</td>\n",
              "      <td>...</td>\n",
              "      <td>...</td>\n",
              "      <td>...</td>\n",
              "      <td>...</td>\n",
              "      <td>...</td>\n",
              "      <td>...</td>\n",
              "      <td>...</td>\n",
              "      <td>...</td>\n",
              "      <td>...</td>\n",
              "    </tr>\n",
              "    <tr>\n",
              "      <th>5314</th>\n",
              "      <td>DUDDHI</td>\n",
              "      <td>ST</td>\n",
              "      <td>PRATOSH KUMAR</td>\n",
              "      <td>M</td>\n",
              "      <td>ST</td>\n",
              "      <td>55.0</td>\n",
              "      <td>4699</td>\n",
              "      <td>5</td>\n",
              "      <td>NaN</td>\n",
              "      <td>NaN</td>\n",
              "      <td>NaN</td>\n",
              "    </tr>\n",
              "    <tr>\n",
              "      <th>5315</th>\n",
              "      <td>DUDDHI</td>\n",
              "      <td>ST</td>\n",
              "      <td>SHIVKUMAR KHARWAR</td>\n",
              "      <td>M</td>\n",
              "      <td>ST</td>\n",
              "      <td>44.0</td>\n",
              "      <td>3312</td>\n",
              "      <td>6</td>\n",
              "      <td>NaN</td>\n",
              "      <td>NaN</td>\n",
              "      <td>NaN</td>\n",
              "    </tr>\n",
              "    <tr>\n",
              "      <th>5316</th>\n",
              "      <td>DUDDHI</td>\n",
              "      <td>ST</td>\n",
              "      <td>VIGAN RAM</td>\n",
              "      <td>M</td>\n",
              "      <td>ST</td>\n",
              "      <td>49.0</td>\n",
              "      <td>2431</td>\n",
              "      <td>7</td>\n",
              "      <td>NaN</td>\n",
              "      <td>NaN</td>\n",
              "      <td>NaN</td>\n",
              "    </tr>\n",
              "    <tr>\n",
              "      <th>5317</th>\n",
              "      <td>DUDDHI</td>\n",
              "      <td>ST</td>\n",
              "      <td>AMAR SINGH</td>\n",
              "      <td>M</td>\n",
              "      <td>ST</td>\n",
              "      <td>35.0</td>\n",
              "      <td>2147</td>\n",
              "      <td>8</td>\n",
              "      <td>NaN</td>\n",
              "      <td>NaN</td>\n",
              "      <td>NaN</td>\n",
              "    </tr>\n",
              "    <tr>\n",
              "      <th>5318</th>\n",
              "      <td>DUDDHI</td>\n",
              "      <td>ST</td>\n",
              "      <td>ASHARFI</td>\n",
              "      <td>M</td>\n",
              "      <td>ST</td>\n",
              "      <td>53.0</td>\n",
              "      <td>1686</td>\n",
              "      <td>9</td>\n",
              "      <td>NaN</td>\n",
              "      <td>NaN</td>\n",
              "      <td>NaN</td>\n",
              "    </tr>\n",
              "  </tbody>\n",
              "</table>\n",
              "<p>4912 rows × 11 columns</p>\n",
              "</div>"
            ],
            "text/plain": [
              "      AC_NAME AC_TYPE  ...                    EDU   NET_ASSETS\n",
              "0       BEHAT     GEN  ...          Post Graduate   10382291.0\n",
              "1       BEHAT     GEN  ...  Graduate Professional   52678213.0\n",
              "2       BEHAT     GEN  ...               Literate  129888857.0\n",
              "3       BEHAT     GEN  ...              12th Pass   65633483.0\n",
              "5       BEHAT     GEN  ...              10th Pass     682859.0\n",
              "...       ...     ...  ...                    ...          ...\n",
              "5314  DUDDHI       ST  ...                    NaN          NaN\n",
              "5315  DUDDHI       ST  ...                    NaN          NaN\n",
              "5316  DUDDHI       ST  ...                    NaN          NaN\n",
              "5317  DUDDHI       ST  ...                    NaN          NaN\n",
              "5318  DUDDHI       ST  ...                    NaN          NaN\n",
              "\n",
              "[4912 rows x 11 columns]"
            ]
          },
          "metadata": {
            "tags": []
          },
          "execution_count": 55
        }
      ]
    },
    {
      "cell_type": "markdown",
      "metadata": {
        "id": "Q78fauV7yg68",
        "colab_type": "text"
      },
      "source": [
        "### Dropping NaN values"
      ]
    },
    {
      "cell_type": "code",
      "metadata": {
        "id": "sM1W1hO7t0gJ",
        "colab_type": "code",
        "outputId": "3fee2ad5-b1d3-47b9-f7ec-b85a0e78edef",
        "colab": {
          "base_uri": "https://localhost:8080/",
          "height": 453
        }
      },
      "source": [
        "la17_df = la17_df.dropna().reset_index(drop=True)\n",
        "la17_df"
      ],
      "execution_count": 56,
      "outputs": [
        {
          "output_type": "execute_result",
          "data": {
            "text/html": [
              "<div>\n",
              "<style scoped>\n",
              "    .dataframe tbody tr th:only-of-type {\n",
              "        vertical-align: middle;\n",
              "    }\n",
              "\n",
              "    .dataframe tbody tr th {\n",
              "        vertical-align: top;\n",
              "    }\n",
              "\n",
              "    .dataframe thead th {\n",
              "        text-align: right;\n",
              "    }\n",
              "</style>\n",
              "<table border=\"1\" class=\"dataframe\">\n",
              "  <thead>\n",
              "    <tr style=\"text-align: right;\">\n",
              "      <th></th>\n",
              "      <th>AC_NAME</th>\n",
              "      <th>AC_TYPE</th>\n",
              "      <th>CAND_NAME</th>\n",
              "      <th>CAND_SEX</th>\n",
              "      <th>CAND_CATEGORY</th>\n",
              "      <th>CAND_AGE</th>\n",
              "      <th>TOTALVALIDVOTESPOLLED</th>\n",
              "      <th>POSITION</th>\n",
              "      <th>C_CASE</th>\n",
              "      <th>EDU</th>\n",
              "      <th>NET_ASSETS</th>\n",
              "    </tr>\n",
              "  </thead>\n",
              "  <tbody>\n",
              "    <tr>\n",
              "      <th>0</th>\n",
              "      <td>BEHAT</td>\n",
              "      <td>GEN</td>\n",
              "      <td>NARESH SAINI</td>\n",
              "      <td>M</td>\n",
              "      <td>GEN</td>\n",
              "      <td>53.0</td>\n",
              "      <td>97035</td>\n",
              "      <td>1</td>\n",
              "      <td>0.0</td>\n",
              "      <td>Post Graduate</td>\n",
              "      <td>10382291.0</td>\n",
              "    </tr>\n",
              "    <tr>\n",
              "      <th>1</th>\n",
              "      <td>BEHAT</td>\n",
              "      <td>GEN</td>\n",
              "      <td>MAHAVEER SINGH RANA</td>\n",
              "      <td>M</td>\n",
              "      <td>GEN</td>\n",
              "      <td>55.0</td>\n",
              "      <td>71449</td>\n",
              "      <td>2</td>\n",
              "      <td>0.0</td>\n",
              "      <td>Graduate Professional</td>\n",
              "      <td>52678213.0</td>\n",
              "    </tr>\n",
              "    <tr>\n",
              "      <th>2</th>\n",
              "      <td>BEHAT</td>\n",
              "      <td>GEN</td>\n",
              "      <td>MOHD. IQBAL</td>\n",
              "      <td>M</td>\n",
              "      <td>GEN</td>\n",
              "      <td>52.0</td>\n",
              "      <td>71019</td>\n",
              "      <td>3</td>\n",
              "      <td>0.0</td>\n",
              "      <td>Literate</td>\n",
              "      <td>129888857.0</td>\n",
              "    </tr>\n",
              "    <tr>\n",
              "      <th>3</th>\n",
              "      <td>BEHAT</td>\n",
              "      <td>GEN</td>\n",
              "      <td>RANA ADITYA PRATAP SINGH</td>\n",
              "      <td>M</td>\n",
              "      <td>GEN</td>\n",
              "      <td>49.0</td>\n",
              "      <td>4187</td>\n",
              "      <td>4</td>\n",
              "      <td>0.0</td>\n",
              "      <td>12th Pass</td>\n",
              "      <td>65633483.0</td>\n",
              "    </tr>\n",
              "    <tr>\n",
              "      <th>4</th>\n",
              "      <td>BEHAT</td>\n",
              "      <td>GEN</td>\n",
              "      <td>KAMRAN ALI</td>\n",
              "      <td>M</td>\n",
              "      <td>GEN</td>\n",
              "      <td>37.0</td>\n",
              "      <td>1255</td>\n",
              "      <td>6</td>\n",
              "      <td>0.0</td>\n",
              "      <td>10th Pass</td>\n",
              "      <td>682859.0</td>\n",
              "    </tr>\n",
              "    <tr>\n",
              "      <th>...</th>\n",
              "      <td>...</td>\n",
              "      <td>...</td>\n",
              "      <td>...</td>\n",
              "      <td>...</td>\n",
              "      <td>...</td>\n",
              "      <td>...</td>\n",
              "      <td>...</td>\n",
              "      <td>...</td>\n",
              "      <td>...</td>\n",
              "      <td>...</td>\n",
              "      <td>...</td>\n",
              "    </tr>\n",
              "    <tr>\n",
              "      <th>2950</th>\n",
              "      <td>ROBERTSGANJ</td>\n",
              "      <td>GEN</td>\n",
              "      <td>BINDU KUMAR</td>\n",
              "      <td>M</td>\n",
              "      <td>GEN</td>\n",
              "      <td>27.0</td>\n",
              "      <td>686</td>\n",
              "      <td>15</td>\n",
              "      <td>0.0</td>\n",
              "      <td>8th Pass</td>\n",
              "      <td>443000.0</td>\n",
              "    </tr>\n",
              "    <tr>\n",
              "      <th>2951</th>\n",
              "      <td>ROBERTSGANJ</td>\n",
              "      <td>GEN</td>\n",
              "      <td>SANTOSH SINGH PATEL</td>\n",
              "      <td>M</td>\n",
              "      <td>GEN</td>\n",
              "      <td>29.0</td>\n",
              "      <td>654</td>\n",
              "      <td>16</td>\n",
              "      <td>1.0</td>\n",
              "      <td>12th Pass</td>\n",
              "      <td>952000.0</td>\n",
              "    </tr>\n",
              "    <tr>\n",
              "      <th>2952</th>\n",
              "      <td>ROBERTSGANJ</td>\n",
              "      <td>GEN</td>\n",
              "      <td>CHANDRA KUMAR</td>\n",
              "      <td>M</td>\n",
              "      <td>GEN</td>\n",
              "      <td>45.0</td>\n",
              "      <td>601</td>\n",
              "      <td>17</td>\n",
              "      <td>0.0</td>\n",
              "      <td>8th Pass</td>\n",
              "      <td>12156000.0</td>\n",
              "    </tr>\n",
              "    <tr>\n",
              "      <th>2953</th>\n",
              "      <td>ROBERTSGANJ</td>\n",
              "      <td>GEN</td>\n",
              "      <td>M AYUB KHAN</td>\n",
              "      <td>M</td>\n",
              "      <td>GEN</td>\n",
              "      <td>72.0</td>\n",
              "      <td>598</td>\n",
              "      <td>18</td>\n",
              "      <td>0.0</td>\n",
              "      <td>10th Pass</td>\n",
              "      <td>4401000.0</td>\n",
              "    </tr>\n",
              "    <tr>\n",
              "      <th>2954</th>\n",
              "      <td>ROBERTSGANJ</td>\n",
              "      <td>GEN</td>\n",
              "      <td>RAM SHRINGAR</td>\n",
              "      <td>M</td>\n",
              "      <td>SC</td>\n",
              "      <td>41.0</td>\n",
              "      <td>522</td>\n",
              "      <td>20</td>\n",
              "      <td>0.0</td>\n",
              "      <td>10th Pass</td>\n",
              "      <td>110000.0</td>\n",
              "    </tr>\n",
              "  </tbody>\n",
              "</table>\n",
              "<p>2955 rows × 11 columns</p>\n",
              "</div>"
            ],
            "text/plain": [
              "          AC_NAME AC_TYPE  ...                    EDU   NET_ASSETS\n",
              "0           BEHAT     GEN  ...          Post Graduate   10382291.0\n",
              "1           BEHAT     GEN  ...  Graduate Professional   52678213.0\n",
              "2           BEHAT     GEN  ...               Literate  129888857.0\n",
              "3           BEHAT     GEN  ...              12th Pass   65633483.0\n",
              "4           BEHAT     GEN  ...              10th Pass     682859.0\n",
              "...           ...     ...  ...                    ...          ...\n",
              "2950  ROBERTSGANJ     GEN  ...               8th Pass     443000.0\n",
              "2951  ROBERTSGANJ     GEN  ...              12th Pass     952000.0\n",
              "2952  ROBERTSGANJ     GEN  ...               8th Pass   12156000.0\n",
              "2953  ROBERTSGANJ     GEN  ...              10th Pass    4401000.0\n",
              "2954  ROBERTSGANJ     GEN  ...              10th Pass     110000.0\n",
              "\n",
              "[2955 rows x 11 columns]"
            ]
          },
          "metadata": {
            "tags": []
          },
          "execution_count": 56
        }
      ]
    },
    {
      "cell_type": "markdown",
      "metadata": {
        "id": "QNKAkPkuzx9q",
        "colab_type": "text"
      },
      "source": [
        "### Change datatypes of columns from float to int"
      ]
    },
    {
      "cell_type": "code",
      "metadata": {
        "id": "Tg3Fu4PI1T6z",
        "colab_type": "code",
        "outputId": "513aa3b7-cb3d-4d62-9fa2-64d8ee6c1f25",
        "colab": {
          "base_uri": "https://localhost:8080/",
          "height": 453
        }
      },
      "source": [
        "la17_df = la17_df.astype({\"CAND_AGE\": int, \"C_CASE\" : int, \"NET_ASSETS\": int})\n",
        "la17_df"
      ],
      "execution_count": 57,
      "outputs": [
        {
          "output_type": "execute_result",
          "data": {
            "text/html": [
              "<div>\n",
              "<style scoped>\n",
              "    .dataframe tbody tr th:only-of-type {\n",
              "        vertical-align: middle;\n",
              "    }\n",
              "\n",
              "    .dataframe tbody tr th {\n",
              "        vertical-align: top;\n",
              "    }\n",
              "\n",
              "    .dataframe thead th {\n",
              "        text-align: right;\n",
              "    }\n",
              "</style>\n",
              "<table border=\"1\" class=\"dataframe\">\n",
              "  <thead>\n",
              "    <tr style=\"text-align: right;\">\n",
              "      <th></th>\n",
              "      <th>AC_NAME</th>\n",
              "      <th>AC_TYPE</th>\n",
              "      <th>CAND_NAME</th>\n",
              "      <th>CAND_SEX</th>\n",
              "      <th>CAND_CATEGORY</th>\n",
              "      <th>CAND_AGE</th>\n",
              "      <th>TOTALVALIDVOTESPOLLED</th>\n",
              "      <th>POSITION</th>\n",
              "      <th>C_CASE</th>\n",
              "      <th>EDU</th>\n",
              "      <th>NET_ASSETS</th>\n",
              "    </tr>\n",
              "  </thead>\n",
              "  <tbody>\n",
              "    <tr>\n",
              "      <th>0</th>\n",
              "      <td>BEHAT</td>\n",
              "      <td>GEN</td>\n",
              "      <td>NARESH SAINI</td>\n",
              "      <td>M</td>\n",
              "      <td>GEN</td>\n",
              "      <td>53</td>\n",
              "      <td>97035</td>\n",
              "      <td>1</td>\n",
              "      <td>0</td>\n",
              "      <td>Post Graduate</td>\n",
              "      <td>10382291</td>\n",
              "    </tr>\n",
              "    <tr>\n",
              "      <th>1</th>\n",
              "      <td>BEHAT</td>\n",
              "      <td>GEN</td>\n",
              "      <td>MAHAVEER SINGH RANA</td>\n",
              "      <td>M</td>\n",
              "      <td>GEN</td>\n",
              "      <td>55</td>\n",
              "      <td>71449</td>\n",
              "      <td>2</td>\n",
              "      <td>0</td>\n",
              "      <td>Graduate Professional</td>\n",
              "      <td>52678213</td>\n",
              "    </tr>\n",
              "    <tr>\n",
              "      <th>2</th>\n",
              "      <td>BEHAT</td>\n",
              "      <td>GEN</td>\n",
              "      <td>MOHD. IQBAL</td>\n",
              "      <td>M</td>\n",
              "      <td>GEN</td>\n",
              "      <td>52</td>\n",
              "      <td>71019</td>\n",
              "      <td>3</td>\n",
              "      <td>0</td>\n",
              "      <td>Literate</td>\n",
              "      <td>129888857</td>\n",
              "    </tr>\n",
              "    <tr>\n",
              "      <th>3</th>\n",
              "      <td>BEHAT</td>\n",
              "      <td>GEN</td>\n",
              "      <td>RANA ADITYA PRATAP SINGH</td>\n",
              "      <td>M</td>\n",
              "      <td>GEN</td>\n",
              "      <td>49</td>\n",
              "      <td>4187</td>\n",
              "      <td>4</td>\n",
              "      <td>0</td>\n",
              "      <td>12th Pass</td>\n",
              "      <td>65633483</td>\n",
              "    </tr>\n",
              "    <tr>\n",
              "      <th>4</th>\n",
              "      <td>BEHAT</td>\n",
              "      <td>GEN</td>\n",
              "      <td>KAMRAN ALI</td>\n",
              "      <td>M</td>\n",
              "      <td>GEN</td>\n",
              "      <td>37</td>\n",
              "      <td>1255</td>\n",
              "      <td>6</td>\n",
              "      <td>0</td>\n",
              "      <td>10th Pass</td>\n",
              "      <td>682859</td>\n",
              "    </tr>\n",
              "    <tr>\n",
              "      <th>...</th>\n",
              "      <td>...</td>\n",
              "      <td>...</td>\n",
              "      <td>...</td>\n",
              "      <td>...</td>\n",
              "      <td>...</td>\n",
              "      <td>...</td>\n",
              "      <td>...</td>\n",
              "      <td>...</td>\n",
              "      <td>...</td>\n",
              "      <td>...</td>\n",
              "      <td>...</td>\n",
              "    </tr>\n",
              "    <tr>\n",
              "      <th>2950</th>\n",
              "      <td>ROBERTSGANJ</td>\n",
              "      <td>GEN</td>\n",
              "      <td>BINDU KUMAR</td>\n",
              "      <td>M</td>\n",
              "      <td>GEN</td>\n",
              "      <td>27</td>\n",
              "      <td>686</td>\n",
              "      <td>15</td>\n",
              "      <td>0</td>\n",
              "      <td>8th Pass</td>\n",
              "      <td>443000</td>\n",
              "    </tr>\n",
              "    <tr>\n",
              "      <th>2951</th>\n",
              "      <td>ROBERTSGANJ</td>\n",
              "      <td>GEN</td>\n",
              "      <td>SANTOSH SINGH PATEL</td>\n",
              "      <td>M</td>\n",
              "      <td>GEN</td>\n",
              "      <td>29</td>\n",
              "      <td>654</td>\n",
              "      <td>16</td>\n",
              "      <td>1</td>\n",
              "      <td>12th Pass</td>\n",
              "      <td>952000</td>\n",
              "    </tr>\n",
              "    <tr>\n",
              "      <th>2952</th>\n",
              "      <td>ROBERTSGANJ</td>\n",
              "      <td>GEN</td>\n",
              "      <td>CHANDRA KUMAR</td>\n",
              "      <td>M</td>\n",
              "      <td>GEN</td>\n",
              "      <td>45</td>\n",
              "      <td>601</td>\n",
              "      <td>17</td>\n",
              "      <td>0</td>\n",
              "      <td>8th Pass</td>\n",
              "      <td>12156000</td>\n",
              "    </tr>\n",
              "    <tr>\n",
              "      <th>2953</th>\n",
              "      <td>ROBERTSGANJ</td>\n",
              "      <td>GEN</td>\n",
              "      <td>M AYUB KHAN</td>\n",
              "      <td>M</td>\n",
              "      <td>GEN</td>\n",
              "      <td>72</td>\n",
              "      <td>598</td>\n",
              "      <td>18</td>\n",
              "      <td>0</td>\n",
              "      <td>10th Pass</td>\n",
              "      <td>4401000</td>\n",
              "    </tr>\n",
              "    <tr>\n",
              "      <th>2954</th>\n",
              "      <td>ROBERTSGANJ</td>\n",
              "      <td>GEN</td>\n",
              "      <td>RAM SHRINGAR</td>\n",
              "      <td>M</td>\n",
              "      <td>SC</td>\n",
              "      <td>41</td>\n",
              "      <td>522</td>\n",
              "      <td>20</td>\n",
              "      <td>0</td>\n",
              "      <td>10th Pass</td>\n",
              "      <td>110000</td>\n",
              "    </tr>\n",
              "  </tbody>\n",
              "</table>\n",
              "<p>2955 rows × 11 columns</p>\n",
              "</div>"
            ],
            "text/plain": [
              "          AC_NAME AC_TYPE  ...                    EDU NET_ASSETS\n",
              "0           BEHAT     GEN  ...          Post Graduate   10382291\n",
              "1           BEHAT     GEN  ...  Graduate Professional   52678213\n",
              "2           BEHAT     GEN  ...               Literate  129888857\n",
              "3           BEHAT     GEN  ...              12th Pass   65633483\n",
              "4           BEHAT     GEN  ...              10th Pass     682859\n",
              "...           ...     ...  ...                    ...        ...\n",
              "2950  ROBERTSGANJ     GEN  ...               8th Pass     443000\n",
              "2951  ROBERTSGANJ     GEN  ...              12th Pass     952000\n",
              "2952  ROBERTSGANJ     GEN  ...               8th Pass   12156000\n",
              "2953  ROBERTSGANJ     GEN  ...              10th Pass    4401000\n",
              "2954  ROBERTSGANJ     GEN  ...              10th Pass     110000\n",
              "\n",
              "[2955 rows x 11 columns]"
            ]
          },
          "metadata": {
            "tags": []
          },
          "execution_count": 57
        }
      ]
    },
    {
      "cell_type": "markdown",
      "metadata": {
        "id": "bxjMRkAtQRm8",
        "colab_type": "text"
      },
      "source": [
        "## Set Targets"
      ]
    },
    {
      "cell_type": "code",
      "metadata": {
        "id": "R7E3GPuW5usu",
        "colab_type": "code",
        "outputId": "e8d509f6-0063-4f53-f5d7-b846761a5885",
        "colab": {
          "base_uri": "https://localhost:8080/",
          "height": 453
        }
      },
      "source": [
        "la17_df.loc[la17_df['POSITION'] == 1, 'POSITION'] = 1\n",
        "la17_df.loc[la17_df['POSITION'] > 1, 'POSITION'] = 0\n",
        "la17_df"
      ],
      "execution_count": 58,
      "outputs": [
        {
          "output_type": "execute_result",
          "data": {
            "text/html": [
              "<div>\n",
              "<style scoped>\n",
              "    .dataframe tbody tr th:only-of-type {\n",
              "        vertical-align: middle;\n",
              "    }\n",
              "\n",
              "    .dataframe tbody tr th {\n",
              "        vertical-align: top;\n",
              "    }\n",
              "\n",
              "    .dataframe thead th {\n",
              "        text-align: right;\n",
              "    }\n",
              "</style>\n",
              "<table border=\"1\" class=\"dataframe\">\n",
              "  <thead>\n",
              "    <tr style=\"text-align: right;\">\n",
              "      <th></th>\n",
              "      <th>AC_NAME</th>\n",
              "      <th>AC_TYPE</th>\n",
              "      <th>CAND_NAME</th>\n",
              "      <th>CAND_SEX</th>\n",
              "      <th>CAND_CATEGORY</th>\n",
              "      <th>CAND_AGE</th>\n",
              "      <th>TOTALVALIDVOTESPOLLED</th>\n",
              "      <th>POSITION</th>\n",
              "      <th>C_CASE</th>\n",
              "      <th>EDU</th>\n",
              "      <th>NET_ASSETS</th>\n",
              "    </tr>\n",
              "  </thead>\n",
              "  <tbody>\n",
              "    <tr>\n",
              "      <th>0</th>\n",
              "      <td>BEHAT</td>\n",
              "      <td>GEN</td>\n",
              "      <td>NARESH SAINI</td>\n",
              "      <td>M</td>\n",
              "      <td>GEN</td>\n",
              "      <td>53</td>\n",
              "      <td>97035</td>\n",
              "      <td>1</td>\n",
              "      <td>0</td>\n",
              "      <td>Post Graduate</td>\n",
              "      <td>10382291</td>\n",
              "    </tr>\n",
              "    <tr>\n",
              "      <th>1</th>\n",
              "      <td>BEHAT</td>\n",
              "      <td>GEN</td>\n",
              "      <td>MAHAVEER SINGH RANA</td>\n",
              "      <td>M</td>\n",
              "      <td>GEN</td>\n",
              "      <td>55</td>\n",
              "      <td>71449</td>\n",
              "      <td>0</td>\n",
              "      <td>0</td>\n",
              "      <td>Graduate Professional</td>\n",
              "      <td>52678213</td>\n",
              "    </tr>\n",
              "    <tr>\n",
              "      <th>2</th>\n",
              "      <td>BEHAT</td>\n",
              "      <td>GEN</td>\n",
              "      <td>MOHD. IQBAL</td>\n",
              "      <td>M</td>\n",
              "      <td>GEN</td>\n",
              "      <td>52</td>\n",
              "      <td>71019</td>\n",
              "      <td>0</td>\n",
              "      <td>0</td>\n",
              "      <td>Literate</td>\n",
              "      <td>129888857</td>\n",
              "    </tr>\n",
              "    <tr>\n",
              "      <th>3</th>\n",
              "      <td>BEHAT</td>\n",
              "      <td>GEN</td>\n",
              "      <td>RANA ADITYA PRATAP SINGH</td>\n",
              "      <td>M</td>\n",
              "      <td>GEN</td>\n",
              "      <td>49</td>\n",
              "      <td>4187</td>\n",
              "      <td>0</td>\n",
              "      <td>0</td>\n",
              "      <td>12th Pass</td>\n",
              "      <td>65633483</td>\n",
              "    </tr>\n",
              "    <tr>\n",
              "      <th>4</th>\n",
              "      <td>BEHAT</td>\n",
              "      <td>GEN</td>\n",
              "      <td>KAMRAN ALI</td>\n",
              "      <td>M</td>\n",
              "      <td>GEN</td>\n",
              "      <td>37</td>\n",
              "      <td>1255</td>\n",
              "      <td>0</td>\n",
              "      <td>0</td>\n",
              "      <td>10th Pass</td>\n",
              "      <td>682859</td>\n",
              "    </tr>\n",
              "    <tr>\n",
              "      <th>...</th>\n",
              "      <td>...</td>\n",
              "      <td>...</td>\n",
              "      <td>...</td>\n",
              "      <td>...</td>\n",
              "      <td>...</td>\n",
              "      <td>...</td>\n",
              "      <td>...</td>\n",
              "      <td>...</td>\n",
              "      <td>...</td>\n",
              "      <td>...</td>\n",
              "      <td>...</td>\n",
              "    </tr>\n",
              "    <tr>\n",
              "      <th>2950</th>\n",
              "      <td>ROBERTSGANJ</td>\n",
              "      <td>GEN</td>\n",
              "      <td>BINDU KUMAR</td>\n",
              "      <td>M</td>\n",
              "      <td>GEN</td>\n",
              "      <td>27</td>\n",
              "      <td>686</td>\n",
              "      <td>0</td>\n",
              "      <td>0</td>\n",
              "      <td>8th Pass</td>\n",
              "      <td>443000</td>\n",
              "    </tr>\n",
              "    <tr>\n",
              "      <th>2951</th>\n",
              "      <td>ROBERTSGANJ</td>\n",
              "      <td>GEN</td>\n",
              "      <td>SANTOSH SINGH PATEL</td>\n",
              "      <td>M</td>\n",
              "      <td>GEN</td>\n",
              "      <td>29</td>\n",
              "      <td>654</td>\n",
              "      <td>0</td>\n",
              "      <td>1</td>\n",
              "      <td>12th Pass</td>\n",
              "      <td>952000</td>\n",
              "    </tr>\n",
              "    <tr>\n",
              "      <th>2952</th>\n",
              "      <td>ROBERTSGANJ</td>\n",
              "      <td>GEN</td>\n",
              "      <td>CHANDRA KUMAR</td>\n",
              "      <td>M</td>\n",
              "      <td>GEN</td>\n",
              "      <td>45</td>\n",
              "      <td>601</td>\n",
              "      <td>0</td>\n",
              "      <td>0</td>\n",
              "      <td>8th Pass</td>\n",
              "      <td>12156000</td>\n",
              "    </tr>\n",
              "    <tr>\n",
              "      <th>2953</th>\n",
              "      <td>ROBERTSGANJ</td>\n",
              "      <td>GEN</td>\n",
              "      <td>M AYUB KHAN</td>\n",
              "      <td>M</td>\n",
              "      <td>GEN</td>\n",
              "      <td>72</td>\n",
              "      <td>598</td>\n",
              "      <td>0</td>\n",
              "      <td>0</td>\n",
              "      <td>10th Pass</td>\n",
              "      <td>4401000</td>\n",
              "    </tr>\n",
              "    <tr>\n",
              "      <th>2954</th>\n",
              "      <td>ROBERTSGANJ</td>\n",
              "      <td>GEN</td>\n",
              "      <td>RAM SHRINGAR</td>\n",
              "      <td>M</td>\n",
              "      <td>SC</td>\n",
              "      <td>41</td>\n",
              "      <td>522</td>\n",
              "      <td>0</td>\n",
              "      <td>0</td>\n",
              "      <td>10th Pass</td>\n",
              "      <td>110000</td>\n",
              "    </tr>\n",
              "  </tbody>\n",
              "</table>\n",
              "<p>2955 rows × 11 columns</p>\n",
              "</div>"
            ],
            "text/plain": [
              "          AC_NAME AC_TYPE  ...                    EDU NET_ASSETS\n",
              "0           BEHAT     GEN  ...          Post Graduate   10382291\n",
              "1           BEHAT     GEN  ...  Graduate Professional   52678213\n",
              "2           BEHAT     GEN  ...               Literate  129888857\n",
              "3           BEHAT     GEN  ...              12th Pass   65633483\n",
              "4           BEHAT     GEN  ...              10th Pass     682859\n",
              "...           ...     ...  ...                    ...        ...\n",
              "2950  ROBERTSGANJ     GEN  ...               8th Pass     443000\n",
              "2951  ROBERTSGANJ     GEN  ...              12th Pass     952000\n",
              "2952  ROBERTSGANJ     GEN  ...               8th Pass   12156000\n",
              "2953  ROBERTSGANJ     GEN  ...              10th Pass    4401000\n",
              "2954  ROBERTSGANJ     GEN  ...              10th Pass     110000\n",
              "\n",
              "[2955 rows x 11 columns]"
            ]
          },
          "metadata": {
            "tags": []
          },
          "execution_count": 58
        }
      ]
    },
    {
      "cell_type": "markdown",
      "metadata": {
        "id": "OZ6Vdm8OyZuj",
        "colab_type": "text"
      },
      "source": [
        "## Training and Test set"
      ]
    },
    {
      "cell_type": "code",
      "metadata": {
        "id": "iZZbknWjD08C",
        "colab_type": "code",
        "colab": {}
      },
      "source": [
        "features_names = ['CAND_NAME', 'CAND_SEX', 'CAND_CATEGORY', 'CAND_AGE', 'C_CASE', 'EDU', 'NET_ASSETS']\n",
        "X = la17_df[features_names]\n",
        "y = la17_df['POSITION']\n",
        "X = pd.get_dummies(X)"
      ],
      "execution_count": 0,
      "outputs": []
    },
    {
      "cell_type": "code",
      "metadata": {
        "id": "vUtRT48gNEyP",
        "colab_type": "code",
        "colab": {}
      },
      "source": [
        "from sklearn.model_selection import train_test_split\n",
        "X_train, X_test, y_train, y_test = train_test_split(X, y, test_size=0.20)"
      ],
      "execution_count": 0,
      "outputs": []
    },
    {
      "cell_type": "markdown",
      "metadata": {
        "id": "x_esQipzBKVu",
        "colab_type": "text"
      },
      "source": [
        "## K-Nearest Neighbors"
      ]
    },
    {
      "cell_type": "code",
      "metadata": {
        "id": "QU7YUozGQxfa",
        "colab_type": "code",
        "colab": {}
      },
      "source": [
        "from sklearn.neighbors import KNeighborsClassifier\n",
        "from sklearn.preprocessing import OneHotEncoder"
      ],
      "execution_count": 0,
      "outputs": []
    },
    {
      "cell_type": "code",
      "metadata": {
        "id": "CUqHCAGzRWFV",
        "colab_type": "code",
        "outputId": "385f0267-524c-4d4d-d217-309bffcce7f9",
        "colab": {
          "base_uri": "https://localhost:8080/",
          "height": 476
        }
      },
      "source": [
        "classifier = KNeighborsClassifier(n_neighbors=5)\n",
        "classifier.fit(X_train, y_train)\n",
        "y_pred = classifier.predict(X_test)\n",
        "y_pred"
      ],
      "execution_count": 63,
      "outputs": [
        {
          "output_type": "execute_result",
          "data": {
            "text/plain": [
              "array([0, 0, 0, 0, 0, 0, 0, 0, 0, 0, 0, 0, 0, 0, 0, 0, 0, 0, 0, 0, 0, 0,\n",
              "       0, 0, 0, 0, 0, 0, 0, 0, 0, 0, 0, 0, 0, 0, 0, 0, 0, 0, 0, 0, 0, 0,\n",
              "       0, 0, 0, 0, 0, 0, 1, 0, 0, 0, 0, 0, 0, 0, 0, 0, 0, 0, 0, 0, 0, 0,\n",
              "       0, 0, 0, 0, 0, 0, 0, 0, 0, 0, 0, 0, 0, 0, 0, 0, 0, 0, 0, 0, 0, 0,\n",
              "       0, 0, 0, 0, 0, 0, 0, 0, 0, 0, 0, 0, 0, 0, 0, 0, 0, 0, 0, 0, 0, 0,\n",
              "       0, 0, 0, 0, 0, 0, 0, 0, 0, 0, 0, 0, 0, 0, 0, 0, 0, 0, 0, 0, 0, 0,\n",
              "       0, 0, 0, 0, 0, 0, 0, 0, 0, 0, 0, 0, 0, 0, 0, 0, 0, 0, 0, 0, 0, 0,\n",
              "       0, 0, 0, 0, 0, 0, 0, 0, 0, 0, 0, 0, 0, 0, 0, 0, 0, 0, 0, 0, 0, 0,\n",
              "       0, 0, 0, 0, 0, 0, 0, 0, 0, 0, 0, 0, 0, 0, 0, 0, 0, 0, 0, 0, 0, 0,\n",
              "       0, 0, 0, 0, 0, 0, 0, 0, 0, 0, 0, 0, 0, 0, 0, 0, 0, 0, 0, 0, 0, 0,\n",
              "       0, 0, 0, 0, 0, 0, 0, 0, 0, 0, 0, 0, 0, 0, 0, 0, 0, 0, 0, 0, 0, 0,\n",
              "       0, 0, 0, 0, 0, 0, 0, 0, 0, 0, 0, 0, 0, 0, 0, 0, 0, 0, 0, 0, 0, 0,\n",
              "       0, 0, 0, 0, 0, 0, 0, 0, 0, 0, 0, 0, 0, 0, 0, 0, 0, 0, 0, 0, 0, 0,\n",
              "       0, 0, 0, 0, 0, 0, 0, 0, 0, 0, 0, 0, 0, 1, 0, 0, 0, 0, 0, 0, 0, 0,\n",
              "       0, 0, 0, 0, 0, 0, 0, 0, 0, 0, 0, 0, 0, 0, 0, 0, 0, 0, 0, 0, 0, 0,\n",
              "       0, 0, 0, 0, 0, 0, 0, 0, 0, 0, 0, 0, 0, 0, 0, 0, 0, 0, 0, 0, 0, 0,\n",
              "       0, 0, 0, 0, 0, 0, 0, 0, 0, 0, 0, 0, 0, 0, 0, 0, 0, 0, 0, 0, 0, 0,\n",
              "       0, 0, 0, 0, 0, 0, 1, 0, 0, 0, 0, 0, 0, 0, 0, 0, 0, 0, 0, 0, 0, 0,\n",
              "       0, 0, 0, 0, 0, 0, 0, 0, 1, 0, 0, 0, 0, 0, 0, 0, 0, 0, 0, 0, 0, 0,\n",
              "       0, 0, 0, 0, 0, 0, 0, 0, 0, 0, 0, 0, 0, 0, 0, 0, 0, 0, 0, 0, 0, 0,\n",
              "       0, 0, 0, 0, 0, 0, 0, 0, 0, 0, 0, 0, 0, 0, 0, 0, 0, 0, 0, 0, 0, 0,\n",
              "       0, 0, 0, 0, 0, 0, 0, 0, 0, 0, 0, 0, 0, 0, 0, 0, 0, 0, 0, 0, 0, 0,\n",
              "       0, 0, 0, 0, 0, 1, 1, 0, 0, 0, 0, 0, 0, 0, 0, 0, 0, 0, 0, 0, 0, 0,\n",
              "       0, 0, 0, 0, 0, 0, 0, 0, 0, 0, 0, 0, 0, 0, 0, 0, 0, 0, 0, 0, 0, 0,\n",
              "       0, 0, 0, 0, 0, 0, 0, 0, 0, 0, 0, 0, 0, 0, 0, 0, 0, 0, 0, 0, 0, 0,\n",
              "       0, 0, 0, 0, 0, 0, 0, 0, 0, 0, 0, 0, 0, 1, 0, 0, 0, 0, 0, 0, 0, 0,\n",
              "       0, 0, 0, 0, 0, 0, 0, 0, 0, 0, 0, 0, 0, 0, 0, 0, 0, 0, 0])"
            ]
          },
          "metadata": {
            "tags": []
          },
          "execution_count": 63
        }
      ]
    },
    {
      "cell_type": "code",
      "metadata": {
        "id": "I2P_qQeyRMYd",
        "colab_type": "code",
        "outputId": "9046d0b4-a743-4283-e77a-721229fa1434",
        "colab": {
          "base_uri": "https://localhost:8080/",
          "height": 204
        }
      },
      "source": [
        "from sklearn.metrics import classification_report, confusion_matrix\n",
        "print(confusion_matrix(y_test, y_pred))\n",
        "print(classification_report(y_test, y_pred))"
      ],
      "execution_count": 64,
      "outputs": [
        {
          "output_type": "stream",
          "text": [
            "[[547   6]\n",
            " [ 37   1]]\n",
            "              precision    recall  f1-score   support\n",
            "\n",
            "           0       0.94      0.99      0.96       553\n",
            "           1       0.14      0.03      0.04        38\n",
            "\n",
            "    accuracy                           0.93       591\n",
            "   macro avg       0.54      0.51      0.50       591\n",
            "weighted avg       0.89      0.93      0.90       591\n",
            "\n"
          ],
          "name": "stdout"
        }
      ]
    },
    {
      "cell_type": "markdown",
      "metadata": {
        "id": "jiE4HuV7mSHs",
        "colab_type": "text"
      },
      "source": [
        "### Comparing Error Rate with the K Value"
      ]
    },
    {
      "cell_type": "code",
      "metadata": {
        "id": "nPX31lY7RkZk",
        "colab_type": "code",
        "colab": {}
      },
      "source": [
        "error = []\n",
        "for i in range(1, 40):\n",
        "    knn = KNeighborsClassifier(n_neighbors=i)\n",
        "    knn.fit(X_train, y_train)\n",
        "    pred_i = knn.predict(X_test)\n",
        "    error.append(np.mean(pred_i != y_test))"
      ],
      "execution_count": 0,
      "outputs": []
    },
    {
      "cell_type": "code",
      "metadata": {
        "id": "BF7xn0szRlat",
        "colab_type": "code",
        "outputId": "01250a9e-dcfa-48e5-8d28-d69200ebff1b",
        "colab": {
          "base_uri": "https://localhost:8080/",
          "height": 427
        }
      },
      "source": [
        "plt.figure(figsize=(12, 6))\n",
        "plt.plot(range(1, 40), error, color='red', linestyle='dashed', marker='o',\n",
        "         markerfacecolor='blue', markersize=10)\n",
        "plt.title('Error Rate K Value')\n",
        "plt.xlabel('K Value')\n",
        "plt.ylabel('Mean Error')"
      ],
      "execution_count": 66,
      "outputs": [
        {
          "output_type": "execute_result",
          "data": {
            "text/plain": [
              "Text(0, 0.5, 'Mean Error')"
            ]
          },
          "metadata": {
            "tags": []
          },
          "execution_count": 66
        },
        {
          "output_type": "display_data",
          "data": {
            "image/png": "[encoded data removed]",
            "text/plain": [
              "<Figure size 864x432 with 1 Axes>"
            ]
          },
          "metadata": {
            "tags": []
          }
        }
      ]
    },
    {
      "cell_type": "markdown",
      "metadata": {
        "id": "zJai1FD_cM4f",
        "colab_type": "text"
      },
      "source": [
        "# Logistic Regression"
      ]
    },
    {
      "cell_type": "code",
      "metadata": {
        "id": "dzdwcVxSmDWP",
        "colab_type": "code",
        "colab": {}
      },
      "source": [
        "from sklearn.linear_model import LogisticRegression"
      ],
      "execution_count": 0,
      "outputs": []
    },
    {
      "cell_type": "code",
      "metadata": {
        "id": "oCJrsWIhcd_b",
        "colab_type": "code",
        "outputId": "cb63e72b-07e4-42c3-f3bd-67d86a2cb487",
        "colab": {
          "base_uri": "https://localhost:8080/",
          "height": 71
        }
      },
      "source": [
        "logreg_model = LogisticRegression()\n",
        "result = logreg_model.fit(X_train, y_train)"
      ],
      "execution_count": 68,
      "outputs": [
        {
          "output_type": "stream",
          "text": [
            "/usr/local/lib/python3.6/dist-packages/sklearn/linear_model/logistic.py:432: FutureWarning: Default solver will be changed to 'lbfgs' in 0.22. Specify a solver to silence this warning.\n",
            "  FutureWarning)\n"
          ],
          "name": "stderr"
        }
      ]
    },
    {
      "cell_type": "code",
      "metadata": {
        "id": "-rYaAnqxdTts",
        "colab_type": "code",
        "outputId": "106214fc-5b3c-43f0-ac65-fde0e4b042f0",
        "colab": {
          "base_uri": "https://localhost:8080/",
          "height": 34
        }
      },
      "source": [
        "result.score(X_test, y_test)"
      ],
      "execution_count": 69,
      "outputs": [
        {
          "output_type": "execute_result",
          "data": {
            "text/plain": [
              "0.9323181049069373"
            ]
          },
          "metadata": {
            "tags": []
          },
          "execution_count": 69
        }
      ]
    },
    {
      "cell_type": "code",
      "metadata": {
        "id": "2YbgGW5RSglZ",
        "colab_type": "code",
        "colab": {
          "base_uri": "https://localhost:8080/",
          "height": 738
        },
        "outputId": "3d77d4d8-4499-4bac-f408-a44870a1a1db"
      },
      "source": [
        "sns.pairplot(data=la17_df[['CAND_SEX', 'CAND_CATEGORY', 'CAND_AGE', 'C_CASE', 'EDU', 'NET_ASSETS', 'POSITION']])"
      ],
      "execution_count": 70,
      "outputs": [
        {
          "output_type": "execute_result",
          "data": {
            "text/plain": [
              "<seaborn.axisgrid.PairGrid at 0x7eff4acfdda0>"
            ]
          },
          "metadata": {
            "tags": []
          },
          "execution_count": 70
        },
        {
          "output_type": "display_data",
          "data": {
            "image/png": "[encoded data removed]",
            "text/plain": [
              "<Figure size 720x720 with 20 Axes>"
            ]
          },
          "metadata": {
            "tags": []
          }
        }
      ]
    },
    {
      "cell_type": "code",
      "metadata": {
        "id": "ZOWJZilVWXBE",
        "colab_type": "code",
        "colab": {}
      },
      "source": [
        "sns.set(style=\"ticks\", color_codes=True)"
      ],
      "execution_count": 0,
      "outputs": []
    },
    {
      "cell_type": "code",
      "metadata": {
        "id": "HXVshFuPWYuv",
        "colab_type": "code",
        "colab": {
          "base_uri": "https://localhost:8080/",
          "height": 302
        },
        "outputId": "cf563b02-5b11-4571-dca8-512b0b629a65"
      },
      "source": [
        "sns.violinplot(x='CAND_SEX', y='POSITION', data=la17_df)"
      ],
      "execution_count": 72,
      "outputs": [
        {
          "output_type": "execute_result",
          "data": {
            "text/plain": [
              "<matplotlib.axes._subplots.AxesSubplot at 0x7eff4a6aabe0>"
            ]
          },
          "metadata": {
            "tags": []
          },
          "execution_count": 72
        },
        {
          "output_type": "display_data",
          "data": {
            "image/png": "[encoded data removed]",
            "text/plain": [
              "<Figure size 432x288 with 1 Axes>"
            ]
          },
          "metadata": {
            "tags": []
          }
        }
      ]
    },
    {
      "cell_type": "code",
      "metadata": {
        "id": "sYTfsu7nbDEM",
        "colab_type": "code",
        "colab": {
          "base_uri": "https://localhost:8080/",
          "height": 302
        },
        "outputId": "bc7a29da-1046-4388-936c-5ea2c8c66c0b"
      },
      "source": [
        "sns.violinplot(x='CAND_CATEGORY', y='POSITION', data=la17_df)"
      ],
      "execution_count": 73,
      "outputs": [
        {
          "output_type": "execute_result",
          "data": {
            "text/plain": [
              "<matplotlib.axes._subplots.AxesSubplot at 0x7eff4a65f898>"
            ]
          },
          "metadata": {
            "tags": []
          },
          "execution_count": 73
        },
        {
          "output_type": "display_data",
          "data": {
            "image/png": "[encoded data removed]",
            "text/plain": [
              "<Figure size 432x288 with 1 Axes>"
            ]
          },
          "metadata": {
            "tags": []
          }
        }
      ]
    }
  ]
}