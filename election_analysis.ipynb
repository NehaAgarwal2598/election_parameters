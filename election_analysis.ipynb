{
  "nbformat": 4,
  "nbformat_minor": 0,
  "metadata": {
    "colab": {
      "name": "election_analysis.ipynb",
      "version": "0.3.2",
      "provenance": [],
      "collapsed_sections": [],
      "include_colab_link": true
    },
    "kernelspec": {
      "name": "python3",
      "display_name": "Python 3"
    }
  },
  "cells": [
    {
      "cell_type": "markdown",
      "metadata": {
        "id": "view-in-github",
        "colab_type": "text"
      },
      "source": [
        "<a href=\"https://colab.research.google.com/github/NehaAgarwal2598/election_parameters/blob/master/election_analysis.ipynb\" target=\"_parent\"><img src=\"https://colab.research.google.com/assets/colab-badge.svg\" alt=\"Open In Colab\"/></a>"
      ]
    },
    {
      "cell_type": "markdown",
      "metadata": {
        "id": "eP3d-EP628aV",
        "colab_type": "text"
      },
      "source": [
        "# Load data from Github repo"
      ]
    },
    {
      "cell_type": "code",
      "metadata": {
        "id": "P8kxzxWt1hN0",
        "colab_type": "code",
        "colab": {}
      },
      "source": [
        "!git clone https://github.com/ayan59dutta/election_parameters.git"
      ],
      "execution_count": 0,
      "outputs": []
    },
    {
      "cell_type": "markdown",
      "metadata": {
        "id": "mE_xv_ic3G7P",
        "colab_type": "text"
      },
      "source": [
        "# Load data from file into dataframes"
      ]
    },
    {
      "cell_type": "code",
      "metadata": {
        "id": "XfR8Kq7T4Iru",
        "colab_type": "code",
        "colab": {}
      },
      "source": [
        "import pandas as pd\n",
        "import numpy as np\n",
        "import matplotlib.pyplot as plt\n"
      ],
      "execution_count": 0,
      "outputs": []
    },
    {
      "cell_type": "code",
      "metadata": {
        "id": "0mQ9oZxP_TMf",
        "colab_type": "code",
        "colab": {}
      },
      "source": [
        "colmn_list = ['Candidate', 'Constituency', 'Criminal Case', 'Education', 'Total Assets', 'Liabilities']\n",
        "\n",
        "def convert(x):\n",
        "    return int(x.split()[1].replace(',', '').replace('~', ''))\n",
        "\n",
        "df1_cand_details = pd.read_excel('election_parameters/data/MyNeta_UP_Assembly_ELections_2017.xlsx',\n",
        "                          usecols=colmn_list,\n",
        "                          converters={'Candidate': lambda x:x.upper(),\n",
        "                                     'Total Assets': convert,\n",
        "                                     'Liabilities': convert})\n",
        "\n",
        "df1_cand_details['Net Assets'] = df1_cand_details['Total Assets'] - df1_cand_details['Liabilities']\n",
        "df1_cand_details = df1_cand_details.drop(columns=['Total Assets', 'Liabilities'])\n",
        "df1_cand_details.rename(columns={'Candidate': 'CAND_NAME', \n",
        "                                 'Constituency': 'AC_NAME', \n",
        "                                 'Criminal Case': 'C_CASE',\n",
        "                                 'Education': 'EDU', \n",
        "                                 'Net Assets': 'NET_ASSETS'}, \n",
        "                        inplace=True)\n",
        "df1_cand_details"
      ],
      "execution_count": 0,
      "outputs": []
    },
    {
      "cell_type": "code",
      "metadata": {
        "id": "3yqhW5y8Qxq6",
        "colab_type": "code",
        "colab": {}
      },
      "source": [
        "colmn_list = ['ST_CODE', 'AC_NAME', 'AC_TYPE', 'CAND_NAME', 'CAND_SEX', \n",
        "              'CAND_CATEGORY', 'CAND_AGE', 'TOTVOTPOLL', 'POSITION']\n",
        "\n",
        "df_ae12 = pd.read_excel('election_parameters/data/AE2012_8913.xls',\n",
        "                        usecols=colmn_list,\n",
        "                        header=1,\n",
        "                        converters={'AC_NAME': lambda x: x.upper()})\n",
        "\n",
        "df_ae12 = df_ae12[df_ae12.ST_CODE == 'S24']\n",
        "\n",
        "df_ae12 = df_ae12.drop('ST_CODE', axis=1).reset_index().drop('index', axis=1)\n",
        "\n",
        "df_ae12"
      ],
      "execution_count": 0,
      "outputs": []
    },
    {
      "cell_type": "code",
      "metadata": {
        "id": "Z7eMMwp5W7_g",
        "colab_type": "code",
        "colab": {}
      },
      "source": [
        "la_2017 = pd.read_excel('election_parameters/data/LA_2017.xls', \n",
        "                        usecols = [1, 6, 7, 8, 9,10, 11, 13, 14], \n",
        "                        converters={'AC_NAME': lambda x:x.upper(),\n",
        "                                    'CAND_NAME': lambda x: x.upper()})\n",
        "la_2017  = la_2017.drop(la_2017[la_2017.ST_NAME != 'Uttar Pradesh'].index)\n",
        "la_2017 = la_2017.drop('ST_NAME', axis = 1).reset_index().drop('index', axis=1)\n",
        "la_2017"
      ],
      "execution_count": 0,
      "outputs": []
    },
    {
      "cell_type": "markdown",
      "metadata": {
        "id": "O4KuspJjk5RN",
        "colab_type": "text"
      },
      "source": [
        "## Anti-Incumbency Check"
      ]
    },
    {
      "cell_type": "code",
      "metadata": {
        "id": "nSnh6TEvk2uu",
        "colab_type": "code",
        "colab": {}
      },
      "source": [
        "# winners_ae12 = df_ae12[df_ae12['POSITION'] == 1]\n",
        "# #winners_ae12 \n",
        "\n",
        "# no_of_winners_12and17 = 0\n",
        "# no_of_winners_12not17 = 0\n",
        "# no_of_winners_12abs17 = 0\n",
        "\n",
        "# for index, row in winners_ae12.iterrows():\n",
        "#   #print(row.CAND_NAME)\n",
        "#   if row.CAND_NAME in la_2017['CAND_NAME']:\n",
        "#     print(row.CAND_NAME)\n",
        "#     break\n",
        "# else:\n",
        "#   print('Over')\n",
        "  \n",
        "# set1 = set(winners_ae12.CAND_NAME)\n",
        "# set1\n",
        "# set2 = set(la_2017.CAND_NAME)\n",
        "# set2\n",
        "# set12 = set1.intersection(set2)\n",
        "# set12"
      ],
      "execution_count": 0,
      "outputs": []
    },
    {
      "cell_type": "code",
      "metadata": {
        "id": "29xQessM2rnM",
        "colab_type": "code",
        "colab": {}
      },
      "source": [
        "la_2017.CAND_NAME"
      ],
      "execution_count": 0,
      "outputs": []
    },
    {
      "cell_type": "markdown",
      "metadata": {
        "id": "uc3TY9Ut4Blc",
        "colab_type": "text"
      },
      "source": [
        "## Join the dataframes"
      ]
    },
    {
      "cell_type": "code",
      "metadata": {
        "id": "Erkdpj9w00mz",
        "colab_type": "code",
        "colab": {}
      },
      "source": [
        "la17_df = la_2017.merge(right=df1_cand_details, \n",
        "                        how='left',\n",
        "                        on=['AC_NAME', 'CAND_NAME'])\n",
        "la17_df"
      ],
      "execution_count": 0,
      "outputs": []
    },
    {
      "cell_type": "markdown",
      "metadata": {
        "id": "k1-StSSvyV3x",
        "colab_type": "text"
      },
      "source": [
        "### Dropping NOTA"
      ]
    },
    {
      "cell_type": "code",
      "metadata": {
        "id": "4x3IJ1WAtmrp",
        "colab_type": "code",
        "colab": {}
      },
      "source": [
        "la17_df = la17_df[la17_df.CAND_NAME != 'NONE OF THE ABOVE']\n",
        "la17_df"
      ],
      "execution_count": 0,
      "outputs": []
    },
    {
      "cell_type": "markdown",
      "metadata": {
        "id": "Q78fauV7yg68",
        "colab_type": "text"
      },
      "source": [
        "### Dropping NaN values"
      ]
    },
    {
      "cell_type": "code",
      "metadata": {
        "id": "sM1W1hO7t0gJ",
        "colab_type": "code",
        "colab": {}
      },
      "source": [
        "la17_df = la17_df.dropna().reset_index(drop=True)\n",
        "la17_df"
      ],
      "execution_count": 0,
      "outputs": []
    },
    {
      "cell_type": "markdown",
      "metadata": {
        "id": "QNKAkPkuzx9q",
        "colab_type": "text"
      },
      "source": [
        "### Change datatypes of columns from float to int"
      ]
    },
    {
      "cell_type": "code",
      "metadata": {
        "id": "Tg3Fu4PI1T6z",
        "colab_type": "code",
        "colab": {}
      },
      "source": [
        "la17_df = la17_df.astype({\"CAND_AGE\": int, \"C_CASE\" : int, \"NET_ASSETS\": int})\n",
        "la17_df"
      ],
      "execution_count": 0,
      "outputs": []
    },
    {
      "cell_type": "markdown",
      "metadata": {
        "id": "bxjMRkAtQRm8",
        "colab_type": "text"
      },
      "source": [
        "## Set Targets"
      ]
    },
    {
      "cell_type": "code",
      "metadata": {
        "id": "R7E3GPuW5usu",
        "colab_type": "code",
        "colab": {}
      },
      "source": [
        "la17_df.loc[la17_df['POSITION'] == 1, 'POSITION'] = 1\n",
        "la17_df.loc[la17_df['POSITION'] > 1, 'POSITION'] = 0\n",
        "la17_df"
      ],
      "execution_count": 0,
      "outputs": []
    },
    {
      "cell_type": "markdown",
      "metadata": {
        "id": "OZ6Vdm8OyZuj",
        "colab_type": "text"
      },
      "source": [
        "## Training and Test set"
      ]
    },
    {
      "cell_type": "code",
      "metadata": {
        "id": "iZZbknWjD08C",
        "colab_type": "code",
        "colab": {}
      },
      "source": [
        "features_names = ['CAND_NAME', 'CAND_SEX', 'CAND_CATEGORY', 'CAND_AGE', 'C_CASE', 'EDU', 'NET_ASSETS']\n",
        "X = la17_df[features_names]\n",
        "y = la17_df['POSITION']\n",
        "X = pd.get_dummies(X)\n",
        "X"
      ],
      "execution_count": 0,
      "outputs": []
    },
    {
      "cell_type": "code",
      "metadata": {
        "id": "vUtRT48gNEyP",
        "colab_type": "code",
        "colab": {}
      },
      "source": [
        "from sklearn.model_selection import train_test_split\n",
        "X_train, X_test, y_train, y_test = train_test_split(X, y, test_size=0.20)\n"
      ],
      "execution_count": 0,
      "outputs": []
    },
    {
      "cell_type": "markdown",
      "metadata": {
        "id": "x_esQipzBKVu",
        "colab_type": "text"
      },
      "source": [
        "## K-Nearest Neighbors"
      ]
    },
    {
      "cell_type": "code",
      "metadata": {
        "id": "QU7YUozGQxfa",
        "colab_type": "code",
        "colab": {}
      },
      "source": [
        "from sklearn.neighbors import KNeighborsClassifier\n",
        "from sklearn.preprocessing import OneHotEncoder\n",
        "# X_train = OneHotEncoder(handle_unknown='ignore').fit(X_train)\n",
        "# X_test = OneHotEncoder(handle_unknown='ignore').fit(X_test)\n",
        "\n",
        "knn = KNeighborsClassifier(n_neighbors=5).fit(X_train, y_train)"
      ],
      "execution_count": 0,
      "outputs": []
    },
    {
      "cell_type": "code",
      "metadata": {
        "id": "CUqHCAGzRWFV",
        "colab_type": "code",
        "colab": {}
      },
      "source": [
        "classifier = KNeighborsClassifier(n_neighbors=5)\n",
        "classifier.fit(X_train, y_train)\n",
        "y_pred = classifier.predict(X_test)\n",
        "y_pred"
      ],
      "execution_count": 0,
      "outputs": []
    },
    {
      "cell_type": "code",
      "metadata": {
        "id": "I2P_qQeyRMYd",
        "colab_type": "code",
        "colab": {}
      },
      "source": [
        "from sklearn.metrics import classification_report, confusion_matrix\n",
        "print(confusion_matrix(y_test, y_pred))\n",
        "print(classification_report(y_test, y_pred))"
      ],
      "execution_count": 0,
      "outputs": []
    },
    {
      "cell_type": "markdown",
      "metadata": {
        "id": "jiE4HuV7mSHs",
        "colab_type": "text"
      },
      "source": [
        "### Comparing Error Rate with the K Value"
      ]
    },
    {
      "cell_type": "code",
      "metadata": {
        "id": "nPX31lY7RkZk",
        "colab_type": "code",
        "colab": {}
      },
      "source": [
        "error = []\n",
        "for i in range(1, 40):\n",
        "    knn = KNeighborsClassifier(n_neighbors=i)\n",
        "    knn.fit(X_train, y_train)\n",
        "    pred_i = knn.predict(X_test)\n",
        "    error.append(np.mean(pred_i != y_test))"
      ],
      "execution_count": 0,
      "outputs": []
    },
    {
      "cell_type": "code",
      "metadata": {
        "id": "BF7xn0szRlat",
        "colab_type": "code",
        "colab": {}
      },
      "source": [
        "plt.figure(figsize=(12, 6))\n",
        "plt.plot(range(1, 40), error, color='red', linestyle='dashed', marker='o',\n",
        "         markerfacecolor='blue', markersize=10)\n",
        "plt.title('Error Rate K Value')\n",
        "plt.xlabel('K Value')\n",
        "plt.ylabel('Mean Error')"
      ],
      "execution_count": 0,
      "outputs": []
    },
    {
      "cell_type": "code",
      "metadata": {
        "id": "dzdwcVxSmDWP",
        "colab_type": "code",
        "colab": {}
      },
      "source": [
        ""
      ],
      "execution_count": 0,
      "outputs": []
    }
  ]
}